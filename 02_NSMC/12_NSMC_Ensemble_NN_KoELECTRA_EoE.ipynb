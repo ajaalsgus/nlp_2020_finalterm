{
 "cells": [
  {
   "cell_type": "markdown",
   "metadata": {},
   "source": [
    "# 준비\n",
    "라이브러리, 파라미터 세팅"
   ]
  },
  {
   "cell_type": "code",
   "execution_count": 9,
   "metadata": {},
   "outputs": [],
   "source": [
    "import pandas as pd\n",
    "import numpy as np\n",
    "import os\n",
    "import re"
   ]
  },
  {
   "cell_type": "code",
   "execution_count": 10,
   "metadata": {},
   "outputs": [],
   "source": [
    "DATA_IN_PATH = './data_in/'\n",
    "DATA_OUT_PATH = './data_out/'\n",
    "\n",
    "TEST_SIZE = 0.2\n",
    "RANDOM_SEED = 42"
   ]
  },
  {
   "cell_type": "markdown",
   "metadata": {},
   "source": [
    "# 데이터 불러오기"
   ]
  },
  {
   "cell_type": "code",
   "execution_count": 11,
   "metadata": {},
   "outputs": [
    {
     "data": {
      "text/html": [
       "<div>\n",
       "<style scoped>\n",
       "    .dataframe tbody tr th:only-of-type {\n",
       "        vertical-align: middle;\n",
       "    }\n",
       "\n",
       "    .dataframe tbody tr th {\n",
       "        vertical-align: top;\n",
       "    }\n",
       "\n",
       "    .dataframe thead th {\n",
       "        text-align: right;\n",
       "    }\n",
       "</style>\n",
       "<table border=\"1\" class=\"dataframe\">\n",
       "  <thead>\n",
       "    <tr style=\"text-align: right;\">\n",
       "      <th></th>\n",
       "      <th>id</th>\n",
       "      <th>document</th>\n",
       "    </tr>\n",
       "  </thead>\n",
       "  <tbody>\n",
       "    <tr>\n",
       "      <th>0</th>\n",
       "      <td>0</td>\n",
       "      <td>정말 많이 울었던 영화입니다.</td>\n",
       "    </tr>\n",
       "    <tr>\n",
       "      <th>1</th>\n",
       "      <td>1</td>\n",
       "      <td>시간 낭비예요.</td>\n",
       "    </tr>\n",
       "    <tr>\n",
       "      <th>2</th>\n",
       "      <td>2</td>\n",
       "      <td>포스터를 저렇게밖에 만들지 못했던 제작자의 소심함에 침을 뱉고 싶다.</td>\n",
       "    </tr>\n",
       "    <tr>\n",
       "      <th>3</th>\n",
       "      <td>3</td>\n",
       "      <td>지금 봐도 재미있는 영화!!! 코믹과 감동!!! 그리고 요리!!!</td>\n",
       "    </tr>\n",
       "    <tr>\n",
       "      <th>4</th>\n",
       "      <td>4</td>\n",
       "      <td>이걸 영화로 만드는 거야?얼마나 가는지 보자.</td>\n",
       "    </tr>\n",
       "  </tbody>\n",
       "</table>\n",
       "</div>"
      ],
      "text/plain": [
       "   id                                document\n",
       "0   0                        정말 많이 울었던 영화입니다.\n",
       "1   1                                시간 낭비예요.\n",
       "2   2  포스터를 저렇게밖에 만들지 못했던 제작자의 소심함에 침을 뱉고 싶다.\n",
       "3   3    지금 봐도 재미있는 영화!!! 코믹과 감동!!! 그리고 요리!!!\n",
       "4   4               이걸 영화로 만드는 거야?얼마나 가는지 보자."
      ]
     },
     "execution_count": 11,
     "metadata": {},
     "output_type": "execute_result"
    }
   ],
   "source": [
    "# 테스트(캐글) 데이터 로드\n",
    "test_data = pd.read_csv(DATA_IN_PATH + 'ko_data.csv', encoding = 'cp949')\n",
    "test_data.columns = ['id','document']  # 전처리 일괄 수행을 위해 컬럼명 변경(학습 데이터셋과 동일하게)\n",
    "test_data.head()"
   ]
  },
  {
   "cell_type": "code",
   "execution_count": 13,
   "metadata": {},
   "outputs": [
    {
     "data": {
      "text/plain": [
       "'./data_out/'"
      ]
     },
     "execution_count": 13,
     "metadata": {},
     "output_type": "execute_result"
    }
   ],
   "source": [
    "DATA_OUT_PATH"
   ]
  },
  {
   "cell_type": "code",
   "execution_count": 16,
   "metadata": {},
   "outputs": [
    {
     "data": {
      "text/html": [
       "<div>\n",
       "<style scoped>\n",
       "    .dataframe tbody tr th:only-of-type {\n",
       "        vertical-align: middle;\n",
       "    }\n",
       "\n",
       "    .dataframe tbody tr th {\n",
       "        vertical-align: top;\n",
       "    }\n",
       "\n",
       "    .dataframe thead th {\n",
       "        text-align: right;\n",
       "    }\n",
       "</style>\n",
       "<table border=\"1\" class=\"dataframe\">\n",
       "  <thead>\n",
       "    <tr style=\"text-align: right;\">\n",
       "      <th></th>\n",
       "      <th>Id</th>\n",
       "      <th>Predicted</th>\n",
       "    </tr>\n",
       "  </thead>\n",
       "  <tbody>\n",
       "    <tr>\n",
       "      <th>0</th>\n",
       "      <td>0</td>\n",
       "      <td>1</td>\n",
       "    </tr>\n",
       "    <tr>\n",
       "      <th>1</th>\n",
       "      <td>1</td>\n",
       "      <td>0</td>\n",
       "    </tr>\n",
       "    <tr>\n",
       "      <th>2</th>\n",
       "      <td>2</td>\n",
       "      <td>0</td>\n",
       "    </tr>\n",
       "    <tr>\n",
       "      <th>3</th>\n",
       "      <td>3</td>\n",
       "      <td>1</td>\n",
       "    </tr>\n",
       "    <tr>\n",
       "      <th>4</th>\n",
       "      <td>4</td>\n",
       "      <td>0</td>\n",
       "    </tr>\n",
       "  </tbody>\n",
       "</table>\n",
       "</div>"
      ],
      "text/plain": [
       "   Id  Predicted\n",
       "0   0          1\n",
       "1   1          0\n",
       "2   2          0\n",
       "3   3          1\n",
       "4   4          0"
      ]
     },
     "execution_count": 16,
     "metadata": {},
     "output_type": "execute_result"
    }
   ],
   "source": [
    "# KoELECTRA 예측 데이터 로드 - 기본1\n",
    "predict_koelectra_base1 = pd.read_csv(DATA_OUT_PATH + 'NSMC_Ensemble_KoELECTRA_Base_090505.csv')\n",
    "predict_koelectra_base1.head()"
   ]
  },
  {
   "cell_type": "code",
   "execution_count": 17,
   "metadata": {},
   "outputs": [
    {
     "data": {
      "text/html": [
       "<div>\n",
       "<style scoped>\n",
       "    .dataframe tbody tr th:only-of-type {\n",
       "        vertical-align: middle;\n",
       "    }\n",
       "\n",
       "    .dataframe tbody tr th {\n",
       "        vertical-align: top;\n",
       "    }\n",
       "\n",
       "    .dataframe thead th {\n",
       "        text-align: right;\n",
       "    }\n",
       "</style>\n",
       "<table border=\"1\" class=\"dataframe\">\n",
       "  <thead>\n",
       "    <tr style=\"text-align: right;\">\n",
       "      <th></th>\n",
       "      <th>Id</th>\n",
       "      <th>Predicted</th>\n",
       "    </tr>\n",
       "  </thead>\n",
       "  <tbody>\n",
       "    <tr>\n",
       "      <th>0</th>\n",
       "      <td>0</td>\n",
       "      <td>1</td>\n",
       "    </tr>\n",
       "    <tr>\n",
       "      <th>1</th>\n",
       "      <td>1</td>\n",
       "      <td>0</td>\n",
       "    </tr>\n",
       "    <tr>\n",
       "      <th>2</th>\n",
       "      <td>2</td>\n",
       "      <td>0</td>\n",
       "    </tr>\n",
       "    <tr>\n",
       "      <th>3</th>\n",
       "      <td>3</td>\n",
       "      <td>1</td>\n",
       "    </tr>\n",
       "    <tr>\n",
       "      <th>4</th>\n",
       "      <td>4</td>\n",
       "      <td>0</td>\n",
       "    </tr>\n",
       "  </tbody>\n",
       "</table>\n",
       "</div>"
      ],
      "text/plain": [
       "   Id  Predicted\n",
       "0   0          1\n",
       "1   1          0\n",
       "2   2          0\n",
       "3   3          1\n",
       "4   4          0"
      ]
     },
     "execution_count": 17,
     "metadata": {},
     "output_type": "execute_result"
    }
   ],
   "source": [
    "# KoELECTRA 예측 데이터 로드 - 기본2\n",
    "predict_koelectra_base2 = pd.read_csv(DATA_OUT_PATH + 'NSMC_Ensemble_KoELECTRA_Base_090577.csv')\n",
    "predict_koelectra_base2.head()"
   ]
  },
  {
   "cell_type": "code",
   "execution_count": 18,
   "metadata": {},
   "outputs": [
    {
     "data": {
      "text/html": [
       "<div>\n",
       "<style scoped>\n",
       "    .dataframe tbody tr th:only-of-type {\n",
       "        vertical-align: middle;\n",
       "    }\n",
       "\n",
       "    .dataframe tbody tr th {\n",
       "        vertical-align: top;\n",
       "    }\n",
       "\n",
       "    .dataframe thead th {\n",
       "        text-align: right;\n",
       "    }\n",
       "</style>\n",
       "<table border=\"1\" class=\"dataframe\">\n",
       "  <thead>\n",
       "    <tr style=\"text-align: right;\">\n",
       "      <th></th>\n",
       "      <th>Id</th>\n",
       "      <th>Predicted</th>\n",
       "    </tr>\n",
       "  </thead>\n",
       "  <tbody>\n",
       "    <tr>\n",
       "      <th>0</th>\n",
       "      <td>0</td>\n",
       "      <td>1</td>\n",
       "    </tr>\n",
       "    <tr>\n",
       "      <th>1</th>\n",
       "      <td>1</td>\n",
       "      <td>0</td>\n",
       "    </tr>\n",
       "    <tr>\n",
       "      <th>2</th>\n",
       "      <td>2</td>\n",
       "      <td>0</td>\n",
       "    </tr>\n",
       "    <tr>\n",
       "      <th>3</th>\n",
       "      <td>3</td>\n",
       "      <td>1</td>\n",
       "    </tr>\n",
       "    <tr>\n",
       "      <th>4</th>\n",
       "      <td>4</td>\n",
       "      <td>0</td>\n",
       "    </tr>\n",
       "  </tbody>\n",
       "</table>\n",
       "</div>"
      ],
      "text/plain": [
       "   Id  Predicted\n",
       "0   0          1\n",
       "1   1          0\n",
       "2   2          0\n",
       "3   3          1\n",
       "4   4          0"
      ]
     },
     "execution_count": 18,
     "metadata": {},
     "output_type": "execute_result"
    }
   ],
   "source": [
    "# KoELECTRA 예측 데이터 로드 - 기본3\n",
    "predict_koelectra_base3 = pd.read_csv(DATA_OUT_PATH + 'NSMC_Ensemble_KoELECTRA_Base_090631.csv')\n",
    "predict_koelectra_base3.head()"
   ]
  },
  {
   "cell_type": "code",
   "execution_count": 42,
   "metadata": {},
   "outputs": [
    {
     "data": {
      "text/html": [
       "<div>\n",
       "<style scoped>\n",
       "    .dataframe tbody tr th:only-of-type {\n",
       "        vertical-align: middle;\n",
       "    }\n",
       "\n",
       "    .dataframe tbody tr th {\n",
       "        vertical-align: top;\n",
       "    }\n",
       "\n",
       "    .dataframe thead th {\n",
       "        text-align: right;\n",
       "    }\n",
       "</style>\n",
       "<table border=\"1\" class=\"dataframe\">\n",
       "  <thead>\n",
       "    <tr style=\"text-align: right;\">\n",
       "      <th></th>\n",
       "      <th>Id</th>\n",
       "      <th>Predicted</th>\n",
       "    </tr>\n",
       "  </thead>\n",
       "  <tbody>\n",
       "    <tr>\n",
       "      <th>0</th>\n",
       "      <td>0</td>\n",
       "      <td>1</td>\n",
       "    </tr>\n",
       "    <tr>\n",
       "      <th>1</th>\n",
       "      <td>1</td>\n",
       "      <td>0</td>\n",
       "    </tr>\n",
       "    <tr>\n",
       "      <th>2</th>\n",
       "      <td>2</td>\n",
       "      <td>0</td>\n",
       "    </tr>\n",
       "    <tr>\n",
       "      <th>3</th>\n",
       "      <td>3</td>\n",
       "      <td>1</td>\n",
       "    </tr>\n",
       "    <tr>\n",
       "      <th>4</th>\n",
       "      <td>4</td>\n",
       "      <td>0</td>\n",
       "    </tr>\n",
       "  </tbody>\n",
       "</table>\n",
       "</div>"
      ],
      "text/plain": [
       "   Id  Predicted\n",
       "0   0          1\n",
       "1   1          0\n",
       "2   2          0\n",
       "3   3          1\n",
       "4   4          0"
      ]
     },
     "execution_count": 42,
     "metadata": {},
     "output_type": "execute_result"
    }
   ],
   "source": [
    "# KoELECTRA 예측 데이터 로드 - 기본+감성사전\n",
    "predict_koelectra_SentiWordDict1 = pd.read_csv(DATA_OUT_PATH + 'NSMC_Ensemble_KoELECTRA_SentiWordDict_090184.csv')\n",
    "predict_koelectra_SentiWordDict1.head()"
   ]
  },
  {
   "cell_type": "code",
   "execution_count": 43,
   "metadata": {},
   "outputs": [
    {
     "data": {
      "text/html": [
       "<div>\n",
       "<style scoped>\n",
       "    .dataframe tbody tr th:only-of-type {\n",
       "        vertical-align: middle;\n",
       "    }\n",
       "\n",
       "    .dataframe tbody tr th {\n",
       "        vertical-align: top;\n",
       "    }\n",
       "\n",
       "    .dataframe thead th {\n",
       "        text-align: right;\n",
       "    }\n",
       "</style>\n",
       "<table border=\"1\" class=\"dataframe\">\n",
       "  <thead>\n",
       "    <tr style=\"text-align: right;\">\n",
       "      <th></th>\n",
       "      <th>Id</th>\n",
       "      <th>Predicted</th>\n",
       "    </tr>\n",
       "  </thead>\n",
       "  <tbody>\n",
       "    <tr>\n",
       "      <th>0</th>\n",
       "      <td>0</td>\n",
       "      <td>1</td>\n",
       "    </tr>\n",
       "    <tr>\n",
       "      <th>1</th>\n",
       "      <td>1</td>\n",
       "      <td>0</td>\n",
       "    </tr>\n",
       "    <tr>\n",
       "      <th>2</th>\n",
       "      <td>2</td>\n",
       "      <td>0</td>\n",
       "    </tr>\n",
       "    <tr>\n",
       "      <th>3</th>\n",
       "      <td>3</td>\n",
       "      <td>1</td>\n",
       "    </tr>\n",
       "    <tr>\n",
       "      <th>4</th>\n",
       "      <td>4</td>\n",
       "      <td>0</td>\n",
       "    </tr>\n",
       "  </tbody>\n",
       "</table>\n",
       "</div>"
      ],
      "text/plain": [
       "   Id  Predicted\n",
       "0   0          1\n",
       "1   1          0\n",
       "2   2          0\n",
       "3   3          1\n",
       "4   4          0"
      ]
     },
     "execution_count": 43,
     "metadata": {},
     "output_type": "execute_result"
    }
   ],
   "source": [
    "# KoELECTRA 예측 데이터 로드 - 앙상블\n",
    "predict_koelectra_ensemble1 = pd.read_csv(DATA_OUT_PATH + 'NSMC_Ensemble_KoELECTRA_Ensemble_090595.csv')\n",
    "predict_koelectra_ensemble1.head()"
   ]
  },
  {
   "cell_type": "markdown",
   "metadata": {},
   "source": [
    "# 기본 모델 (Baseline)\n",
    "### 모델 앙상블(Majority Voting) 방식"
   ]
  },
  {
   "cell_type": "code",
   "execution_count": 44,
   "metadata": {},
   "outputs": [
    {
     "data": {
      "text/plain": [
       "11187"
      ]
     },
     "execution_count": 44,
     "metadata": {},
     "output_type": "execute_result"
    }
   ],
   "source": [
    "# 테스트 데이터의 id 부분을 리스트 처리\n",
    "test_id = list(test_data['id'])\n",
    "len(test_id)"
   ]
  },
  {
   "cell_type": "code",
   "execution_count": 45,
   "metadata": {},
   "outputs": [
    {
     "data": {
      "text/plain": [
       "11187"
      ]
     },
     "execution_count": 45,
     "metadata": {},
     "output_type": "execute_result"
    }
   ],
   "source": [
    "# predict_koelectra_base1 데이터의 Predicted 부분을 리스트 처리\n",
    "koelectra_base_predicted1 = list(predict_koelectra_base1['Predicted'])\n",
    "len(koelectra_base_predicted1)"
   ]
  },
  {
   "cell_type": "code",
   "execution_count": 46,
   "metadata": {},
   "outputs": [
    {
     "data": {
      "text/plain": [
       "11187"
      ]
     },
     "execution_count": 46,
     "metadata": {},
     "output_type": "execute_result"
    }
   ],
   "source": [
    "# predict_koelectra_base2 데이터의 Predicted 부분을 리스트 처리\n",
    "koelectra_base_predicted2 = list(predict_koelectra_base2['Predicted'])\n",
    "len(koelectra_base_predicted2)"
   ]
  },
  {
   "cell_type": "code",
   "execution_count": 47,
   "metadata": {},
   "outputs": [
    {
     "data": {
      "text/plain": [
       "11187"
      ]
     },
     "execution_count": 47,
     "metadata": {},
     "output_type": "execute_result"
    }
   ],
   "source": [
    "# predict_koelectra_base3 데이터의 Predicted 부분을 리스트 처리\n",
    "koelectra_base_predicted3 = list(predict_koelectra_base3['Predicted'])\n",
    "len(koelectra_base_predicted3)"
   ]
  },
  {
   "cell_type": "code",
   "execution_count": 48,
   "metadata": {},
   "outputs": [
    {
     "data": {
      "text/plain": [
       "11187"
      ]
     },
     "execution_count": 48,
     "metadata": {},
     "output_type": "execute_result"
    }
   ],
   "source": [
    "# predict_koelectra_SentiWordDict1 데이터의 Predicted 부분을 리스트 처리\n",
    "koelectra_SentiWordDict_predicted1 = list(predict_koelectra_SentiWordDict1['Predicted'])\n",
    "len(koelectra_SentiWordDict_predicted1)"
   ]
  },
  {
   "cell_type": "code",
   "execution_count": 49,
   "metadata": {},
   "outputs": [
    {
     "data": {
      "text/plain": [
       "11187"
      ]
     },
     "execution_count": 49,
     "metadata": {},
     "output_type": "execute_result"
    }
   ],
   "source": [
    "# predict_koelectra_SentiWordDict1 데이터의 Predicted 부분을 리스트 처리\n",
    "koelectra_ensemble_predicted1 = list(predict_koelectra_ensemble1['Predicted'])\n",
    "len(koelectra_ensemble_predicted1)"
   ]
  },
  {
   "cell_type": "code",
   "execution_count": 50,
   "metadata": {},
   "outputs": [
    {
     "data": {
      "text/html": [
       "<div>\n",
       "<style scoped>\n",
       "    .dataframe tbody tr th:only-of-type {\n",
       "        vertical-align: middle;\n",
       "    }\n",
       "\n",
       "    .dataframe tbody tr th {\n",
       "        vertical-align: top;\n",
       "    }\n",
       "\n",
       "    .dataframe thead th {\n",
       "        text-align: right;\n",
       "    }\n",
       "</style>\n",
       "<table border=\"1\" class=\"dataframe\">\n",
       "  <thead>\n",
       "    <tr style=\"text-align: right;\">\n",
       "      <th></th>\n",
       "      <th>Id</th>\n",
       "      <th>KoELECTRA_BASE_1</th>\n",
       "      <th>KoELECTRA_BASE_2</th>\n",
       "      <th>KoELECTRA_BASE_3</th>\n",
       "      <th>KoELECTRA_SWD_1</th>\n",
       "    </tr>\n",
       "  </thead>\n",
       "  <tbody>\n",
       "    <tr>\n",
       "      <th>0</th>\n",
       "      <td>0</td>\n",
       "      <td>1</td>\n",
       "      <td>1</td>\n",
       "      <td>1</td>\n",
       "      <td>1</td>\n",
       "    </tr>\n",
       "    <tr>\n",
       "      <th>1</th>\n",
       "      <td>1</td>\n",
       "      <td>0</td>\n",
       "      <td>0</td>\n",
       "      <td>0</td>\n",
       "      <td>0</td>\n",
       "    </tr>\n",
       "    <tr>\n",
       "      <th>2</th>\n",
       "      <td>2</td>\n",
       "      <td>0</td>\n",
       "      <td>0</td>\n",
       "      <td>0</td>\n",
       "      <td>0</td>\n",
       "    </tr>\n",
       "    <tr>\n",
       "      <th>3</th>\n",
       "      <td>3</td>\n",
       "      <td>1</td>\n",
       "      <td>1</td>\n",
       "      <td>1</td>\n",
       "      <td>1</td>\n",
       "    </tr>\n",
       "    <tr>\n",
       "      <th>4</th>\n",
       "      <td>4</td>\n",
       "      <td>0</td>\n",
       "      <td>0</td>\n",
       "      <td>0</td>\n",
       "      <td>0</td>\n",
       "    </tr>\n",
       "    <tr>\n",
       "      <th>...</th>\n",
       "      <td>...</td>\n",
       "      <td>...</td>\n",
       "      <td>...</td>\n",
       "      <td>...</td>\n",
       "      <td>...</td>\n",
       "    </tr>\n",
       "    <tr>\n",
       "      <th>11182</th>\n",
       "      <td>11182</td>\n",
       "      <td>1</td>\n",
       "      <td>1</td>\n",
       "      <td>1</td>\n",
       "      <td>1</td>\n",
       "    </tr>\n",
       "    <tr>\n",
       "      <th>11183</th>\n",
       "      <td>11183</td>\n",
       "      <td>0</td>\n",
       "      <td>0</td>\n",
       "      <td>0</td>\n",
       "      <td>0</td>\n",
       "    </tr>\n",
       "    <tr>\n",
       "      <th>11184</th>\n",
       "      <td>11184</td>\n",
       "      <td>1</td>\n",
       "      <td>1</td>\n",
       "      <td>1</td>\n",
       "      <td>1</td>\n",
       "    </tr>\n",
       "    <tr>\n",
       "      <th>11185</th>\n",
       "      <td>11185</td>\n",
       "      <td>1</td>\n",
       "      <td>1</td>\n",
       "      <td>1</td>\n",
       "      <td>1</td>\n",
       "    </tr>\n",
       "    <tr>\n",
       "      <th>11186</th>\n",
       "      <td>11186</td>\n",
       "      <td>0</td>\n",
       "      <td>0</td>\n",
       "      <td>0</td>\n",
       "      <td>0</td>\n",
       "    </tr>\n",
       "  </tbody>\n",
       "</table>\n",
       "<p>11187 rows × 5 columns</p>\n",
       "</div>"
      ],
      "text/plain": [
       "          Id  KoELECTRA_BASE_1  KoELECTRA_BASE_2  KoELECTRA_BASE_3  \\\n",
       "0          0                 1                 1                 1   \n",
       "1          1                 0                 0                 0   \n",
       "2          2                 0                 0                 0   \n",
       "3          3                 1                 1                 1   \n",
       "4          4                 0                 0                 0   \n",
       "...      ...               ...               ...               ...   \n",
       "11182  11182                 1                 1                 1   \n",
       "11183  11183                 0                 0                 0   \n",
       "11184  11184                 1                 1                 1   \n",
       "11185  11185                 1                 1                 1   \n",
       "11186  11186                 0                 0                 0   \n",
       "\n",
       "       KoELECTRA_SWD_1  \n",
       "0                    1  \n",
       "1                    0  \n",
       "2                    0  \n",
       "3                    1  \n",
       "4                    0  \n",
       "...                ...  \n",
       "11182                1  \n",
       "11183                0  \n",
       "11184                1  \n",
       "11185                1  \n",
       "11186                0  \n",
       "\n",
       "[11187 rows x 5 columns]"
      ]
     },
     "execution_count": 50,
     "metadata": {},
     "output_type": "execute_result"
    }
   ],
   "source": [
    "# 판다스 데이터프레임 통해 데이터 구성하여 output에 투입\n",
    "result = pd.DataFrame( data={\"Id\": test_id, \"KoELECTRA_BASE_1\": koelectra_base_predicted1 \\\n",
    "                             ,\"KoELECTRA_BASE_2\": koelectra_base_predicted2 \\\n",
    "                             ,\"KoELECTRA_BASE_3\": koelectra_base_predicted3 \\\n",
    "                             ,\"KoELECTRA_SWD_1\": koelectra_SentiWordDict_predicted1 \\\n",
    "                             #,\"KoELECTRA_ESM_1\": koelectra_ensemble_predicted1 \\\n",
    "                            } )\n",
    "result"
   ]
  },
  {
   "cell_type": "code",
   "execution_count": 52,
   "metadata": {},
   "outputs": [
    {
     "data": {
      "text/html": [
       "<div>\n",
       "<style scoped>\n",
       "    .dataframe tbody tr th:only-of-type {\n",
       "        vertical-align: middle;\n",
       "    }\n",
       "\n",
       "    .dataframe tbody tr th {\n",
       "        vertical-align: top;\n",
       "    }\n",
       "\n",
       "    .dataframe thead th {\n",
       "        text-align: right;\n",
       "    }\n",
       "</style>\n",
       "<table border=\"1\" class=\"dataframe\">\n",
       "  <thead>\n",
       "    <tr style=\"text-align: right;\">\n",
       "      <th></th>\n",
       "      <th>Id</th>\n",
       "      <th>KoELECTRA_BASE_1</th>\n",
       "      <th>KoELECTRA_BASE_2</th>\n",
       "      <th>KoELECTRA_BASE_3</th>\n",
       "      <th>KoELECTRA_SWD_1</th>\n",
       "      <th>Ensemble_Result</th>\n",
       "    </tr>\n",
       "  </thead>\n",
       "  <tbody>\n",
       "    <tr>\n",
       "      <th>0</th>\n",
       "      <td>0</td>\n",
       "      <td>1</td>\n",
       "      <td>1</td>\n",
       "      <td>1</td>\n",
       "      <td>1</td>\n",
       "      <td>1</td>\n",
       "    </tr>\n",
       "    <tr>\n",
       "      <th>1</th>\n",
       "      <td>1</td>\n",
       "      <td>0</td>\n",
       "      <td>0</td>\n",
       "      <td>0</td>\n",
       "      <td>0</td>\n",
       "      <td>0</td>\n",
       "    </tr>\n",
       "    <tr>\n",
       "      <th>2</th>\n",
       "      <td>2</td>\n",
       "      <td>0</td>\n",
       "      <td>0</td>\n",
       "      <td>0</td>\n",
       "      <td>0</td>\n",
       "      <td>0</td>\n",
       "    </tr>\n",
       "    <tr>\n",
       "      <th>3</th>\n",
       "      <td>3</td>\n",
       "      <td>1</td>\n",
       "      <td>1</td>\n",
       "      <td>1</td>\n",
       "      <td>1</td>\n",
       "      <td>1</td>\n",
       "    </tr>\n",
       "    <tr>\n",
       "      <th>4</th>\n",
       "      <td>4</td>\n",
       "      <td>0</td>\n",
       "      <td>0</td>\n",
       "      <td>0</td>\n",
       "      <td>0</td>\n",
       "      <td>0</td>\n",
       "    </tr>\n",
       "    <tr>\n",
       "      <th>5</th>\n",
       "      <td>5</td>\n",
       "      <td>1</td>\n",
       "      <td>1</td>\n",
       "      <td>1</td>\n",
       "      <td>1</td>\n",
       "      <td>1</td>\n",
       "    </tr>\n",
       "    <tr>\n",
       "      <th>6</th>\n",
       "      <td>6</td>\n",
       "      <td>0</td>\n",
       "      <td>0</td>\n",
       "      <td>0</td>\n",
       "      <td>0</td>\n",
       "      <td>0</td>\n",
       "    </tr>\n",
       "    <tr>\n",
       "      <th>7</th>\n",
       "      <td>7</td>\n",
       "      <td>1</td>\n",
       "      <td>1</td>\n",
       "      <td>1</td>\n",
       "      <td>1</td>\n",
       "      <td>1</td>\n",
       "    </tr>\n",
       "    <tr>\n",
       "      <th>8</th>\n",
       "      <td>8</td>\n",
       "      <td>0</td>\n",
       "      <td>0</td>\n",
       "      <td>0</td>\n",
       "      <td>0</td>\n",
       "      <td>0</td>\n",
       "    </tr>\n",
       "    <tr>\n",
       "      <th>9</th>\n",
       "      <td>9</td>\n",
       "      <td>1</td>\n",
       "      <td>1</td>\n",
       "      <td>1</td>\n",
       "      <td>1</td>\n",
       "      <td>1</td>\n",
       "    </tr>\n",
       "    <tr>\n",
       "      <th>10</th>\n",
       "      <td>10</td>\n",
       "      <td>1</td>\n",
       "      <td>1</td>\n",
       "      <td>1</td>\n",
       "      <td>1</td>\n",
       "      <td>1</td>\n",
       "    </tr>\n",
       "    <tr>\n",
       "      <th>11</th>\n",
       "      <td>11</td>\n",
       "      <td>0</td>\n",
       "      <td>0</td>\n",
       "      <td>0</td>\n",
       "      <td>0</td>\n",
       "      <td>0</td>\n",
       "    </tr>\n",
       "    <tr>\n",
       "      <th>12</th>\n",
       "      <td>12</td>\n",
       "      <td>0</td>\n",
       "      <td>0</td>\n",
       "      <td>0</td>\n",
       "      <td>0</td>\n",
       "      <td>0</td>\n",
       "    </tr>\n",
       "    <tr>\n",
       "      <th>13</th>\n",
       "      <td>13</td>\n",
       "      <td>0</td>\n",
       "      <td>0</td>\n",
       "      <td>0</td>\n",
       "      <td>0</td>\n",
       "      <td>0</td>\n",
       "    </tr>\n",
       "    <tr>\n",
       "      <th>14</th>\n",
       "      <td>14</td>\n",
       "      <td>0</td>\n",
       "      <td>0</td>\n",
       "      <td>0</td>\n",
       "      <td>0</td>\n",
       "      <td>0</td>\n",
       "    </tr>\n",
       "    <tr>\n",
       "      <th>15</th>\n",
       "      <td>15</td>\n",
       "      <td>1</td>\n",
       "      <td>1</td>\n",
       "      <td>1</td>\n",
       "      <td>1</td>\n",
       "      <td>1</td>\n",
       "    </tr>\n",
       "    <tr>\n",
       "      <th>16</th>\n",
       "      <td>16</td>\n",
       "      <td>1</td>\n",
       "      <td>1</td>\n",
       "      <td>1</td>\n",
       "      <td>1</td>\n",
       "      <td>1</td>\n",
       "    </tr>\n",
       "    <tr>\n",
       "      <th>17</th>\n",
       "      <td>17</td>\n",
       "      <td>1</td>\n",
       "      <td>1</td>\n",
       "      <td>1</td>\n",
       "      <td>1</td>\n",
       "      <td>1</td>\n",
       "    </tr>\n",
       "    <tr>\n",
       "      <th>18</th>\n",
       "      <td>18</td>\n",
       "      <td>1</td>\n",
       "      <td>1</td>\n",
       "      <td>1</td>\n",
       "      <td>1</td>\n",
       "      <td>1</td>\n",
       "    </tr>\n",
       "    <tr>\n",
       "      <th>19</th>\n",
       "      <td>19</td>\n",
       "      <td>1</td>\n",
       "      <td>1</td>\n",
       "      <td>1</td>\n",
       "      <td>1</td>\n",
       "      <td>1</td>\n",
       "    </tr>\n",
       "  </tbody>\n",
       "</table>\n",
       "</div>"
      ],
      "text/plain": [
       "    Id  KoELECTRA_BASE_1  KoELECTRA_BASE_2  KoELECTRA_BASE_3  KoELECTRA_SWD_1  \\\n",
       "0    0                 1                 1                 1                1   \n",
       "1    1                 0                 0                 0                0   \n",
       "2    2                 0                 0                 0                0   \n",
       "3    3                 1                 1                 1                1   \n",
       "4    4                 0                 0                 0                0   \n",
       "5    5                 1                 1                 1                1   \n",
       "6    6                 0                 0                 0                0   \n",
       "7    7                 1                 1                 1                1   \n",
       "8    8                 0                 0                 0                0   \n",
       "9    9                 1                 1                 1                1   \n",
       "10  10                 1                 1                 1                1   \n",
       "11  11                 0                 0                 0                0   \n",
       "12  12                 0                 0                 0                0   \n",
       "13  13                 0                 0                 0                0   \n",
       "14  14                 0                 0                 0                0   \n",
       "15  15                 1                 1                 1                1   \n",
       "16  16                 1                 1                 1                1   \n",
       "17  17                 1                 1                 1                1   \n",
       "18  18                 1                 1                 1                1   \n",
       "19  19                 1                 1                 1                1   \n",
       "\n",
       "    Ensemble_Result  \n",
       "0                 1  \n",
       "1                 0  \n",
       "2                 0  \n",
       "3                 1  \n",
       "4                 0  \n",
       "5                 1  \n",
       "6                 0  \n",
       "7                 1  \n",
       "8                 0  \n",
       "9                 1  \n",
       "10                1  \n",
       "11                0  \n",
       "12                0  \n",
       "13                0  \n",
       "14                0  \n",
       "15                1  \n",
       "16                1  \n",
       "17                1  \n",
       "18                1  \n",
       "19                1  "
      ]
     },
     "execution_count": 52,
     "metadata": {},
     "output_type": "execute_result"
    }
   ],
   "source": [
    "result[\"Ensemble_Result\"] = ((result[\"KoELECTRA_BASE_1\"]+result[\"KoELECTRA_BASE_2\"]+result[\"KoELECTRA_BASE_3\"]+result[\"KoELECTRA_SWD_1\"])/3).astype('int')\n",
    "#result[\"Ensemble_Result\"] = ((result[\"KoELECTRA_BASE_1\"]+result[\"KoELECTRA_BASE_2\"]+result[\"KoELECTRA_BASE_3\"]+result[\"KoELECTRA_ESM_1\"])/3).astype('int')\n",
    "result.head(20)"
   ]
  },
  {
   "cell_type": "code",
   "execution_count": 53,
   "metadata": {},
   "outputs": [
    {
     "data": {
      "text/html": [
       "<div>\n",
       "<style scoped>\n",
       "    .dataframe tbody tr th:only-of-type {\n",
       "        vertical-align: middle;\n",
       "    }\n",
       "\n",
       "    .dataframe tbody tr th {\n",
       "        vertical-align: top;\n",
       "    }\n",
       "\n",
       "    .dataframe thead th {\n",
       "        text-align: right;\n",
       "    }\n",
       "</style>\n",
       "<table border=\"1\" class=\"dataframe\">\n",
       "  <thead>\n",
       "    <tr style=\"text-align: right;\">\n",
       "      <th></th>\n",
       "      <th>Id</th>\n",
       "      <th>Predicted</th>\n",
       "    </tr>\n",
       "  </thead>\n",
       "  <tbody>\n",
       "    <tr>\n",
       "      <th>0</th>\n",
       "      <td>0</td>\n",
       "      <td>1</td>\n",
       "    </tr>\n",
       "    <tr>\n",
       "      <th>1</th>\n",
       "      <td>1</td>\n",
       "      <td>0</td>\n",
       "    </tr>\n",
       "    <tr>\n",
       "      <th>2</th>\n",
       "      <td>2</td>\n",
       "      <td>0</td>\n",
       "    </tr>\n",
       "    <tr>\n",
       "      <th>3</th>\n",
       "      <td>3</td>\n",
       "      <td>1</td>\n",
       "    </tr>\n",
       "    <tr>\n",
       "      <th>4</th>\n",
       "      <td>4</td>\n",
       "      <td>0</td>\n",
       "    </tr>\n",
       "  </tbody>\n",
       "</table>\n",
       "</div>"
      ],
      "text/plain": [
       "   Id  Predicted\n",
       "0   0          1\n",
       "1   1          0\n",
       "2   2          0\n",
       "3   3          1\n",
       "4   4          0"
      ]
     },
     "execution_count": 53,
     "metadata": {},
     "output_type": "execute_result"
    }
   ],
   "source": [
    "output = result[['Id','Ensemble_Result']].copy()\n",
    "output = output.rename({'Ensemble_Result':'Predicted'}, axis='columns')\n",
    "output.head()"
   ]
  },
  {
   "cell_type": "code",
   "execution_count": 54,
   "metadata": {},
   "outputs": [],
   "source": [
    "# 해당 경로가 없으면 생성\n",
    "if not os.path.exists(DATA_OUT_PATH):\n",
    "    os.makedirs(DATA_OUT_PATH)\n",
    "\n",
    "# csv파일 생성\n",
    "output.to_csv(DATA_OUT_PATH + \"NSMC_Ensemble_KoELECTRA_Ensemble.csv\", index = False)  # 앙상블 결과, 캐글 제출 용도"
   ]
  },
  {
   "cell_type": "markdown",
   "metadata": {},
   "source": [
    "### 캐글 제출 결과\n",
    "**[2020.12.13~]**<br>\n",
    "NSMC_Ensemble_KoELECTRA_Base_090505,<br>\n",
    "NSMC_Ensemble_KoELECTRA_Base_090577,<br>\n",
    "NSMC_Ensemble_KoELECTRA_Base_090631,<br>\n",
    "NSMC_Ensemble_KoELECTRA_SentiWordDict_090362<br>\n",
    "조합(4개) => 0.90595\n",
    "\n",
    "NSMC_Ensemble_KoELECTRA_Base_090505,<br>\n",
    "NSMC_Ensemble_KoELECTRA_Base_090577,<br>\n",
    "NSMC_Ensemble_KoELECTRA_Base_090631,<br>\n",
    "NSMC_Ensemble_KoELECTRA_SentiWordDict_090184<br>\n",
    "조합(4개) => 0.90505"
   ]
  },
  {
   "cell_type": "markdown",
   "metadata": {},
   "source": []
  },
  {
   "cell_type": "markdown",
   "metadata": {},
   "source": [
    "# (참고) 파일 앙상블\n",
    "https://www.kaggle.com/yixinsunn/ensemble-submissions"
   ]
  },
  {
   "cell_type": "code",
   "execution_count": 138,
   "metadata": {},
   "outputs": [],
   "source": [
    "\"\"\"\n",
    "This script is used for competitions.\n",
    "It ensembles previous .csv submissions\n",
    "by averaging files, with a weight for each file.\n",
    "The average method can be either arithmeitc or geometric.\n",
    "\"\"\"\n",
    "\n",
    "import os, glob, re\n",
    "import numpy as np\n",
    "import pandas as pd"
   ]
  },
  {
   "cell_type": "code",
   "execution_count": 170,
   "metadata": {},
   "outputs": [
    {
     "name": "stdout",
     "output_type": "stream",
     "text": [
      "Loaded files: ['NSMC_Ensemble_KoELECTRA_Ensemble_090505.csv', 'NSMC_Ensemble_KoELECTRA_Base_090631.csv', 'NSMC_Ensemble_KoELECTRA_SentiWordDict_090184.csv', 'NSMC_Ensemble_KoELECTRA_SentiWordDict_090362.csv', 'NSMC_KoELECTRA_SentiWordDict_090112.csv', 'NSMC_Ensemble_KoELECTRA_Base_090273.csv', 'NSMC_Ensemble_KoELECTRA_Base_090505.csv', 'NSMC_Ensemble_KoELECTRA_Ensemble_090595.csv', 'NSMC_Ensemble_KoELECTRA_Base_090577.csv', 'new_submission_fn_090541.csv']\n"
     ]
    }
   ],
   "source": [
    "path = './data_out/99_SubmissionFiles_for_Ensemble/'    # to be modified according to your directory, \n",
    "                     # e.g. set it os.getcwd() if .csv files are in current directory\n",
    "\n",
    "# load data into a dict, <(str)filename, dataframe>\n",
    "data = { f.split('/')[-1]: \\\n",
    "        pd.read_csv(f) for f in glob.glob(path + '/*.csv') }\n",
    "\n",
    "# an alternative option to read data, using regular expression\n",
    "#data = { re.search(r'([0-9A-Za-z._-]*?.csv)', f).group():\n",
    "#        pd.read_csv(f) for f in glob.glob(path + '/*.csv') }\n",
    "assert(len(data) > 0)\n",
    "print('Loaded files:', list(data.keys()))"
   ]
  },
  {
   "cell_type": "code",
   "execution_count": 171,
   "metadata": {},
   "outputs": [],
   "source": [
    "def ensemble(data, w, method='arithmetic'):\n",
    "    \"\"\"\n",
    "    @params: data: a dict of dataframes, <(str)filename: dataframe>\n",
    "             w: a dict of weights, <(str)filename: (int or float)weight>\n",
    "             method: either arithmetic mean or geometric mean.\n",
    "    @return: a new dataframe for submission\n",
    "    \"\"\"\n",
    "    columns = data[list(data.keys())[0]].columns\n",
    "    submission = pd.DataFrame({columns[0]: data[list(data.keys())[0]][columns[0]]})\n",
    "    assert(method in ['arithmetic', 'geometric'])\n",
    "    \n",
    "    if method == 'arithmetic':\n",
    "        submission[columns[1]] = 0.0\n",
    "        for key in data.keys():\n",
    "            submission[columns[1]] += data[key][columns[1]] * w[key]\n",
    "        submission[columns[1]] /= sum(w.values())\n",
    "    else:\n",
    "        submission[columns[1]] = 1.0\n",
    "        for key in data.keys():\n",
    "            submission[columns[1]] *= data[key][columns[1]] ** w[key]\n",
    "        submission[columns[1]] **= 1. / sum(w.values())\n",
    "    \n",
    "    return submission"
   ]
  },
  {
   "cell_type": "code",
   "execution_count": 172,
   "metadata": {},
   "outputs": [
    {
     "name": "stdout",
     "output_type": "stream",
     "text": [
      "Enter the weight for NSMC_Ensemble_KoELECTRA_Ensemble_090505.csv: 3\n",
      "Enter the weight for NSMC_Ensemble_KoELECTRA_Base_090631.csv: 5\n",
      "Enter the weight for NSMC_Ensemble_KoELECTRA_SentiWordDict_090184.csv: 1\n",
      "Enter the weight for NSMC_Ensemble_KoELECTRA_SentiWordDict_090362.csv: 1\n",
      "Enter the weight for NSMC_KoELECTRA_SentiWordDict_090112.csv: 1\n",
      "Enter the weight for NSMC_Ensemble_KoELECTRA_Base_090273.csv: 1\n",
      "Enter the weight for NSMC_Ensemble_KoELECTRA_Base_090505.csv: 3\n",
      "Enter the weight for NSMC_Ensemble_KoELECTRA_Ensemble_090595.csv: 3\n",
      "Enter the weight for NSMC_Ensemble_KoELECTRA_Base_090577.csv: 3\n",
      "Enter the weight for new_submission_fn_090541.csv: 3\n",
      "\n",
      "Weights for each file: {'NSMC_Ensemble_KoELECTRA_Ensemble_090505.csv': 3.0, 'NSMC_Ensemble_KoELECTRA_Base_090631.csv': 5.0, 'NSMC_Ensemble_KoELECTRA_SentiWordDict_090184.csv': 1.0, 'NSMC_Ensemble_KoELECTRA_SentiWordDict_090362.csv': 1.0, 'NSMC_KoELECTRA_SentiWordDict_090112.csv': 1.0, 'NSMC_Ensemble_KoELECTRA_Base_090273.csv': 1.0, 'NSMC_Ensemble_KoELECTRA_Base_090505.csv': 3.0, 'NSMC_Ensemble_KoELECTRA_Ensemble_090595.csv': 3.0, 'NSMC_Ensemble_KoELECTRA_Base_090577.csv': 3.0, 'new_submission_fn_090541.csv': 3.0}\n",
      "New submission file ./data_out/new_submission.csv is now created\n"
     ]
    }
   ],
   "source": [
    "# Enter weights here\n",
    "w = { key: 1 for key in data.keys() }\n",
    "for key in w:\n",
    "    w[key] = float(input(\"Enter the weight for {}: \".format(key)))\n",
    "\n",
    "print('\\nWeights for each file:', w)\n",
    "\n",
    "filename = './data_out/new_submission.csv'\n",
    "new_submission = ensemble(data, w, method='arithmetic')\n",
    "new_submission.to_csv(filename, index=False)\n",
    "print('New submission file {} is now created'.format(filename))"
   ]
  },
  {
   "cell_type": "code",
   "execution_count": 173,
   "metadata": {},
   "outputs": [
    {
     "data": {
      "text/html": [
       "<div>\n",
       "<style scoped>\n",
       "    .dataframe tbody tr th:only-of-type {\n",
       "        vertical-align: middle;\n",
       "    }\n",
       "\n",
       "    .dataframe tbody tr th {\n",
       "        vertical-align: top;\n",
       "    }\n",
       "\n",
       "    .dataframe thead th {\n",
       "        text-align: right;\n",
       "    }\n",
       "</style>\n",
       "<table border=\"1\" class=\"dataframe\">\n",
       "  <thead>\n",
       "    <tr style=\"text-align: right;\">\n",
       "      <th></th>\n",
       "      <th>Id</th>\n",
       "      <th>Predicted</th>\n",
       "    </tr>\n",
       "  </thead>\n",
       "  <tbody>\n",
       "    <tr>\n",
       "      <th>11182</th>\n",
       "      <td>11182</td>\n",
       "      <td>1.0</td>\n",
       "    </tr>\n",
       "    <tr>\n",
       "      <th>11183</th>\n",
       "      <td>11183</td>\n",
       "      <td>0.0</td>\n",
       "    </tr>\n",
       "    <tr>\n",
       "      <th>11184</th>\n",
       "      <td>11184</td>\n",
       "      <td>1.0</td>\n",
       "    </tr>\n",
       "    <tr>\n",
       "      <th>11185</th>\n",
       "      <td>11185</td>\n",
       "      <td>1.0</td>\n",
       "    </tr>\n",
       "    <tr>\n",
       "      <th>11186</th>\n",
       "      <td>11186</td>\n",
       "      <td>0.0</td>\n",
       "    </tr>\n",
       "  </tbody>\n",
       "</table>\n",
       "</div>"
      ],
      "text/plain": [
       "          Id  Predicted\n",
       "11182  11182        1.0\n",
       "11183  11183        0.0\n",
       "11184  11184        1.0\n",
       "11185  11185        1.0\n",
       "11186  11186        0.0"
      ]
     },
     "execution_count": 173,
     "metadata": {},
     "output_type": "execute_result"
    }
   ],
   "source": [
    "# 파일 앙상블 결과 데이터 로드\n",
    "result_file_esm = pd.read_csv('./data_out/new_submission.csv')\n",
    "result_file_esm.tail()"
   ]
  },
  {
   "cell_type": "code",
   "execution_count": 174,
   "metadata": {},
   "outputs": [
    {
     "data": {
      "text/plain": [
       "11187"
      ]
     },
     "execution_count": 174,
     "metadata": {},
     "output_type": "execute_result"
    }
   ],
   "source": [
    "len(result_file_esm)"
   ]
  },
  {
   "cell_type": "code",
   "execution_count": 175,
   "metadata": {},
   "outputs": [],
   "source": [
    "predicted_reset = []\n",
    "for i in result_file_esm.iloc[:,1]:\n",
    "    if i > 0.5:  i = 1\n",
    "    else:  i = 0\n",
    "    predicted_reset.append(i)"
   ]
  },
  {
   "cell_type": "code",
   "execution_count": 176,
   "metadata": {},
   "outputs": [
    {
     "data": {
      "text/plain": [
       "11187"
      ]
     },
     "execution_count": 176,
     "metadata": {},
     "output_type": "execute_result"
    }
   ],
   "source": [
    "len(predicted_reset)"
   ]
  },
  {
   "cell_type": "code",
   "execution_count": 177,
   "metadata": {},
   "outputs": [],
   "source": [
    "result_file_esm['Predicted_New'] = predicted_reset"
   ]
  },
  {
   "cell_type": "code",
   "execution_count": 178,
   "metadata": {},
   "outputs": [],
   "source": [
    "result_file_esm.drop('Predicted', axis=1, inplace=True)"
   ]
  },
  {
   "cell_type": "code",
   "execution_count": 179,
   "metadata": {},
   "outputs": [
    {
     "data": {
      "text/html": [
       "<div>\n",
       "<style scoped>\n",
       "    .dataframe tbody tr th:only-of-type {\n",
       "        vertical-align: middle;\n",
       "    }\n",
       "\n",
       "    .dataframe tbody tr th {\n",
       "        vertical-align: top;\n",
       "    }\n",
       "\n",
       "    .dataframe thead th {\n",
       "        text-align: right;\n",
       "    }\n",
       "</style>\n",
       "<table border=\"1\" class=\"dataframe\">\n",
       "  <thead>\n",
       "    <tr style=\"text-align: right;\">\n",
       "      <th></th>\n",
       "      <th>Id</th>\n",
       "      <th>Predicted</th>\n",
       "    </tr>\n",
       "  </thead>\n",
       "  <tbody>\n",
       "    <tr>\n",
       "      <th>0</th>\n",
       "      <td>0</td>\n",
       "      <td>1</td>\n",
       "    </tr>\n",
       "    <tr>\n",
       "      <th>1</th>\n",
       "      <td>1</td>\n",
       "      <td>0</td>\n",
       "    </tr>\n",
       "    <tr>\n",
       "      <th>2</th>\n",
       "      <td>2</td>\n",
       "      <td>0</td>\n",
       "    </tr>\n",
       "    <tr>\n",
       "      <th>3</th>\n",
       "      <td>3</td>\n",
       "      <td>1</td>\n",
       "    </tr>\n",
       "    <tr>\n",
       "      <th>4</th>\n",
       "      <td>4</td>\n",
       "      <td>0</td>\n",
       "    </tr>\n",
       "    <tr>\n",
       "      <th>...</th>\n",
       "      <td>...</td>\n",
       "      <td>...</td>\n",
       "    </tr>\n",
       "    <tr>\n",
       "      <th>11182</th>\n",
       "      <td>11182</td>\n",
       "      <td>1</td>\n",
       "    </tr>\n",
       "    <tr>\n",
       "      <th>11183</th>\n",
       "      <td>11183</td>\n",
       "      <td>0</td>\n",
       "    </tr>\n",
       "    <tr>\n",
       "      <th>11184</th>\n",
       "      <td>11184</td>\n",
       "      <td>1</td>\n",
       "    </tr>\n",
       "    <tr>\n",
       "      <th>11185</th>\n",
       "      <td>11185</td>\n",
       "      <td>1</td>\n",
       "    </tr>\n",
       "    <tr>\n",
       "      <th>11186</th>\n",
       "      <td>11186</td>\n",
       "      <td>0</td>\n",
       "    </tr>\n",
       "  </tbody>\n",
       "</table>\n",
       "<p>11187 rows × 2 columns</p>\n",
       "</div>"
      ],
      "text/plain": [
       "          Id  Predicted\n",
       "0          0          1\n",
       "1          1          0\n",
       "2          2          0\n",
       "3          3          1\n",
       "4          4          0\n",
       "...      ...        ...\n",
       "11182  11182          1\n",
       "11183  11183          0\n",
       "11184  11184          1\n",
       "11185  11185          1\n",
       "11186  11186          0\n",
       "\n",
       "[11187 rows x 2 columns]"
      ]
     },
     "execution_count": 179,
     "metadata": {},
     "output_type": "execute_result"
    }
   ],
   "source": [
    "result_file_esm.columns = ['Id','Predicted']\n",
    "result_file_esm"
   ]
  },
  {
   "cell_type": "code",
   "execution_count": 180,
   "metadata": {},
   "outputs": [],
   "source": [
    "result_file_esm.to_csv('./data_out/new_submission_fn.csv', index=False)"
   ]
  },
  {
   "cell_type": "markdown",
   "metadata": {},
   "source": [
    "geometric, 최고 성능에 3 + 나머지에 1 가중치 부여 => 0.89951<br>\n",
    "arithmetic, 최고 성능에 3 + 나머지에 1 가중치 부여 => 0.90541"
   ]
  }
 ],
 "metadata": {
  "kernelspec": {
   "display_name": "Python 3",
   "language": "python",
   "name": "python3"
  },
  "language_info": {
   "codemirror_mode": {
    "name": "ipython",
    "version": 3
   },
   "file_extension": ".py",
   "mimetype": "text/x-python",
   "name": "python",
   "nbconvert_exporter": "python",
   "pygments_lexer": "ipython3",
   "version": "3.6.9"
  }
 },
 "nbformat": 4,
 "nbformat_minor": 2
}
