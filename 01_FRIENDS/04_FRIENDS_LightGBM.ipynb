{
 "cells": [
  {
   "cell_type": "markdown",
   "metadata": {},
   "source": [
    "# Friends 감정분석 with LightGBM\n",
    "참고(링크) : "
   ]
  },
  {
   "cell_type": "markdown",
   "metadata": {},
   "source": [
    "# 준비\n",
    "패키지, 파라미터 세팅"
   ]
  },
  {
   "cell_type": "code",
   "execution_count": 1,
   "metadata": {},
   "outputs": [],
   "source": [
    "import pandas as pd\n",
    "import numpy as np\n",
    "import os\n",
    "import re\n",
    "import random\n",
    "import time\n",
    "import datetime\n",
    "import json"
   ]
  },
  {
   "cell_type": "code",
   "execution_count": 2,
   "metadata": {},
   "outputs": [],
   "source": [
    "DATA_IN_PATH = './data_in/'\n",
    "DATA_OUT_PATH = './data_out/'\n",
    "\n",
    "TEST_SIZE = 0.2\n",
    "RANDOM_SEED = 42"
   ]
  },
  {
   "cell_type": "markdown",
   "metadata": {},
   "source": [
    "# 데이터 로드"
   ]
  },
  {
   "cell_type": "code",
   "execution_count": 3,
   "metadata": {},
   "outputs": [],
   "source": [
    "def jsonToDf(file_name):\n",
    "    with open(file_name, encoding = 'utf-8', mode = 'r') as file:\n",
    "        json_array = json.load(file)\n",
    "  \n",
    "    result = pd.DataFrame.from_dict(json_array[0])\n",
    "\n",
    "    is_first = True\n",
    "    for array in json_array:\n",
    "        if is_first:\n",
    "            is_first = False\n",
    "            continue\n",
    "    \n",
    "        temp_df = pd.DataFrame.from_dict(array)\n",
    "        result = result.append(temp_df, ignore_index = True)\n",
    "\n",
    "    return result"
   ]
  },
  {
   "cell_type": "code",
   "execution_count": 4,
   "metadata": {},
   "outputs": [],
   "source": [
    "train_df = jsonToDf(DATA_IN_PATH+'friends_train.json')  # 학습용\n",
    "dev_df = jsonToDf(DATA_IN_PATH+'friends_dev.json')  # 검증용\n",
    "test_df = pd.read_csv(DATA_IN_PATH+'en_data.csv')  # 테스트(캐글) 데이터"
   ]
  },
  {
   "cell_type": "code",
   "execution_count": 5,
   "metadata": {},
   "outputs": [
    {
     "name": "stdout",
     "output_type": "stream",
     "text": [
      "(10561, 4)\n",
      "(1178, 4)\n",
      "(1623, 5)\n"
     ]
    }
   ],
   "source": [
    "print(train_df.shape)\n",
    "print(dev_df.shape)\n",
    "print(test_df.shape)"
   ]
  },
  {
   "cell_type": "code",
   "execution_count": 6,
   "metadata": {},
   "outputs": [
    {
     "data": {
      "text/html": [
       "<div>\n",
       "<style scoped>\n",
       "    .dataframe tbody tr th:only-of-type {\n",
       "        vertical-align: middle;\n",
       "    }\n",
       "\n",
       "    .dataframe tbody tr th {\n",
       "        vertical-align: top;\n",
       "    }\n",
       "\n",
       "    .dataframe thead th {\n",
       "        text-align: right;\n",
       "    }\n",
       "</style>\n",
       "<table border=\"1\" class=\"dataframe\">\n",
       "  <thead>\n",
       "    <tr style=\"text-align: right;\">\n",
       "      <th></th>\n",
       "      <th>speaker</th>\n",
       "      <th>utterance</th>\n",
       "      <th>emotion</th>\n",
       "      <th>annotation</th>\n",
       "    </tr>\n",
       "  </thead>\n",
       "  <tbody>\n",
       "    <tr>\n",
       "      <th>0</th>\n",
       "      <td>Chandler</td>\n",
       "      <td>also I was the point person on my companys tr...</td>\n",
       "      <td>neutral</td>\n",
       "      <td>4100000</td>\n",
       "    </tr>\n",
       "    <tr>\n",
       "      <th>1</th>\n",
       "      <td>The Interviewer</td>\n",
       "      <td>You mustve had your hands full.</td>\n",
       "      <td>neutral</td>\n",
       "      <td>5000000</td>\n",
       "    </tr>\n",
       "    <tr>\n",
       "      <th>2</th>\n",
       "      <td>Chandler</td>\n",
       "      <td>That I did. That I did.</td>\n",
       "      <td>neutral</td>\n",
       "      <td>5000000</td>\n",
       "    </tr>\n",
       "    <tr>\n",
       "      <th>3</th>\n",
       "      <td>The Interviewer</td>\n",
       "      <td>So lets talk a little bit about your duties.</td>\n",
       "      <td>neutral</td>\n",
       "      <td>5000000</td>\n",
       "    </tr>\n",
       "    <tr>\n",
       "      <th>4</th>\n",
       "      <td>Chandler</td>\n",
       "      <td>My duties?  All right.</td>\n",
       "      <td>surprise</td>\n",
       "      <td>2000030</td>\n",
       "    </tr>\n",
       "  </tbody>\n",
       "</table>\n",
       "</div>"
      ],
      "text/plain": [
       "           speaker                                          utterance  \\\n",
       "0         Chandler  also I was the point person on my companys tr...   \n",
       "1  The Interviewer                   You mustve had your hands full.   \n",
       "2         Chandler                            That I did. That I did.   \n",
       "3  The Interviewer      So lets talk a little bit about your duties.   \n",
       "4         Chandler                             My duties?  All right.   \n",
       "\n",
       "    emotion annotation  \n",
       "0   neutral    4100000  \n",
       "1   neutral    5000000  \n",
       "2   neutral    5000000  \n",
       "3   neutral    5000000  \n",
       "4  surprise    2000030  "
      ]
     },
     "execution_count": 6,
     "metadata": {},
     "output_type": "execute_result"
    }
   ],
   "source": [
    "train_df.head()"
   ]
  },
  {
   "cell_type": "code",
   "execution_count": 7,
   "metadata": {},
   "outputs": [
    {
     "data": {
      "text/html": [
       "<div>\n",
       "<style scoped>\n",
       "    .dataframe tbody tr th:only-of-type {\n",
       "        vertical-align: middle;\n",
       "    }\n",
       "\n",
       "    .dataframe tbody tr th {\n",
       "        vertical-align: top;\n",
       "    }\n",
       "\n",
       "    .dataframe thead th {\n",
       "        text-align: right;\n",
       "    }\n",
       "</style>\n",
       "<table border=\"1\" class=\"dataframe\">\n",
       "  <thead>\n",
       "    <tr style=\"text-align: right;\">\n",
       "      <th></th>\n",
       "      <th>speaker</th>\n",
       "      <th>utterance</th>\n",
       "      <th>emotion</th>\n",
       "      <th>annotation</th>\n",
       "    </tr>\n",
       "  </thead>\n",
       "  <tbody>\n",
       "    <tr>\n",
       "      <th>0</th>\n",
       "      <td>Phoebe</td>\n",
       "      <td>Oh my God, hes lost it. Hes totally lost it.</td>\n",
       "      <td>non-neutral</td>\n",
       "      <td>0002120</td>\n",
       "    </tr>\n",
       "    <tr>\n",
       "      <th>1</th>\n",
       "      <td>Monica</td>\n",
       "      <td>What?</td>\n",
       "      <td>surprise</td>\n",
       "      <td>1000130</td>\n",
       "    </tr>\n",
       "    <tr>\n",
       "      <th>2</th>\n",
       "      <td>Ross</td>\n",
       "      <td>Or! Or, we could go to the bank, close our acc...</td>\n",
       "      <td>neutral</td>\n",
       "      <td>3000200</td>\n",
       "    </tr>\n",
       "    <tr>\n",
       "      <th>3</th>\n",
       "      <td>Chandler</td>\n",
       "      <td>Youre a genius!</td>\n",
       "      <td>joy</td>\n",
       "      <td>0500000</td>\n",
       "    </tr>\n",
       "    <tr>\n",
       "      <th>4</th>\n",
       "      <td>Joey</td>\n",
       "      <td>Aww, man, now we wont be bank buddies!</td>\n",
       "      <td>sadness</td>\n",
       "      <td>0040100</td>\n",
       "    </tr>\n",
       "  </tbody>\n",
       "</table>\n",
       "</div>"
      ],
      "text/plain": [
       "    speaker                                          utterance      emotion  \\\n",
       "0    Phoebe     Oh my God, hes lost it. Hes totally lost it.  non-neutral   \n",
       "1    Monica                                              What?     surprise   \n",
       "2      Ross  Or! Or, we could go to the bank, close our acc...      neutral   \n",
       "3  Chandler                                   Youre a genius!          joy   \n",
       "4      Joey            Aww, man, now we wont be bank buddies!      sadness   \n",
       "\n",
       "  annotation  \n",
       "0    0002120  \n",
       "1    1000130  \n",
       "2    3000200  \n",
       "3    0500000  \n",
       "4    0040100  "
      ]
     },
     "execution_count": 7,
     "metadata": {},
     "output_type": "execute_result"
    }
   ],
   "source": [
    "dev_df.head()"
   ]
  },
  {
   "cell_type": "code",
   "execution_count": 8,
   "metadata": {},
   "outputs": [
    {
     "data": {
      "text/html": [
       "<div>\n",
       "<style scoped>\n",
       "    .dataframe tbody tr th:only-of-type {\n",
       "        vertical-align: middle;\n",
       "    }\n",
       "\n",
       "    .dataframe tbody tr th {\n",
       "        vertical-align: top;\n",
       "    }\n",
       "\n",
       "    .dataframe thead th {\n",
       "        text-align: right;\n",
       "    }\n",
       "</style>\n",
       "<table border=\"1\" class=\"dataframe\">\n",
       "  <thead>\n",
       "    <tr style=\"text-align: right;\">\n",
       "      <th></th>\n",
       "      <th>id</th>\n",
       "      <th>i_dialog</th>\n",
       "      <th>i_utterance</th>\n",
       "      <th>speaker</th>\n",
       "      <th>utterance</th>\n",
       "    </tr>\n",
       "  </thead>\n",
       "  <tbody>\n",
       "    <tr>\n",
       "      <th>0</th>\n",
       "      <td>0</td>\n",
       "      <td>0</td>\n",
       "      <td>0</td>\n",
       "      <td>Phoebe</td>\n",
       "      <td>Alright, whadyou do with him?</td>\n",
       "    </tr>\n",
       "    <tr>\n",
       "      <th>1</th>\n",
       "      <td>1</td>\n",
       "      <td>0</td>\n",
       "      <td>1</td>\n",
       "      <td>Monica</td>\n",
       "      <td>Oh! You're awake!</td>\n",
       "    </tr>\n",
       "    <tr>\n",
       "      <th>2</th>\n",
       "      <td>2</td>\n",
       "      <td>0</td>\n",
       "      <td>2</td>\n",
       "      <td>Joey</td>\n",
       "      <td>Then you gotta come clean with Ma! This is not...</td>\n",
       "    </tr>\n",
       "    <tr>\n",
       "      <th>3</th>\n",
       "      <td>3</td>\n",
       "      <td>0</td>\n",
       "      <td>3</td>\n",
       "      <td>Mr. Tribbiani</td>\n",
       "      <td>Yeah, but this is</td>\n",
       "    </tr>\n",
       "    <tr>\n",
       "      <th>4</th>\n",
       "      <td>4</td>\n",
       "      <td>0</td>\n",
       "      <td>4</td>\n",
       "      <td>Joey</td>\n",
       "      <td>I don't wanna hear it! Now go to my room!</td>\n",
       "    </tr>\n",
       "  </tbody>\n",
       "</table>\n",
       "</div>"
      ],
      "text/plain": [
       "   id  i_dialog  i_utterance        speaker  \\\n",
       "0   0         0            0         Phoebe   \n",
       "1   1         0            1         Monica   \n",
       "2   2         0            2           Joey   \n",
       "3   3         0            3  Mr. Tribbiani   \n",
       "4   4         0            4           Joey   \n",
       "\n",
       "                                           utterance  \n",
       "0                      Alright, whadyou do with him?  \n",
       "1                                  Oh! You're awake!  \n",
       "2  Then you gotta come clean with Ma! This is not...  \n",
       "3                                  Yeah, but this is  \n",
       "4          I don't wanna hear it! Now go to my room!  "
      ]
     },
     "execution_count": 8,
     "metadata": {},
     "output_type": "execute_result"
    }
   ],
   "source": [
    "test_df.head()"
   ]
  },
  {
   "cell_type": "markdown",
   "metadata": {},
   "source": [
    "# 데이터 전처리"
   ]
  },
  {
   "cell_type": "code",
   "execution_count": 9,
   "metadata": {},
   "outputs": [],
   "source": [
    "def data_cleansing(train_data, dev_data, test_data, con=0):  # 0: 전처리 없음(null값 공백 치환), 1: 숫자 제거, 2: 특수문자 제거\n",
    "    global train_df\n",
    "    global dev_df\n",
    "    global test_df\n",
    "    \n",
    "    train_data = jsonToDf(DATA_IN_PATH+'friends_train.json')  # 학습용\n",
    "    dev_data = jsonToDf(DATA_IN_PATH+'friends_dev.json')  # 검증용\n",
    "    test_data = pd.read_csv(DATA_IN_PATH+'en_data.csv')  # 테스트(캐글) 데이터\n",
    "   \n",
    "    train_data.drop(['speaker','annotation'], axis=1, inplace=True)\n",
    "    dev_data.drop(['speaker','annotation'], axis=1, inplace=True)\n",
    "    test_data.drop(['i_dialog','i_utterance','speaker'], axis=1, inplace=True)\n",
    "\n",
    "    train_df = train_data.copy()\n",
    "    dev_df = dev_data.copy()\n",
    "    test_df = test_data.copy()\n",
    "    \n",
    "    if con == 1:  # 숫자 제거 & Null 치환(공백), row 제거 없음\n",
    "        # 정규 표현식을 이용해 숫자를 공백으로 변경(정규 표현식으로 \\d는 숫자를 의미)\n",
    "        train_df = train_df.fillna(' ')\n",
    "        train_df['utterance'] = train_df['utterance'].apply( lambda x : re.sub(r\"\\d+\", \" \", x) )  # 숫자 제거\n",
    "        dev_df = dev_df.fillna(' ')\n",
    "        dev_df['utterance'] = dev_df['utterance'].apply( lambda x : re.sub(r\"\\d+\", \" \", x) )  # 숫자 제거\n",
    "        test_df = test_df.fillna(' ')\n",
    "        test_df['utterance'] = test_df['utterance'].apply( lambda x : re.sub(r\"\\d+\", \" \", x) )  # 숫자 제거\n",
    "        \n",
    "    elif con == 2:  # 특수문자 제거 & Null 치환(공백), row 제거 없음\n",
    "        train_df = train_df.fillna(' ')\n",
    "        train_df['utterance'] = train_df['utterance'].str.replace(\"[-=+,#/\\?:^$.@*\\\"※~&%ㆍ!』\\\\‘|\\(\\)\\[\\]\\<\\>`\\'…》\\x92]\",\"\") # 정규 표현식 수행(특수문자 제거)\n",
    "        dev_df = dev_df.fillna(' ')\n",
    "        dev_df['utterance'] = dev_df['utterance'].str.replace(\"[-=+,#/\\?:^$.@*\\\"※~&%ㆍ!』\\\\‘|\\(\\)\\[\\]\\<\\>`\\'…》\\x92]\",\"\") # 정규 표현식 수행(특수문자 제거)\n",
    "        test_df = test_df.fillna(' ')\n",
    "        test_df['utterance'] = test_df['utterance'].str.replace(\"[-=+,#/\\?:^$.@*\\\"※~&%ㆍ!』\\\\‘|\\(\\)\\[\\]\\<\\>`\\'…》\\x92]\",\"\") # 정규 표현식 수행(특수문자 제거)\n",
    "        \n",
    "    else:\n",
    "        train_df = train_df.fillna(' ')\n",
    "        dev_df = dev_df.fillna(' ')\n",
    "        test_df = test_df.fillna(' ')\n",
    "    \n",
    "    print('전처리 후 학습 데이터 :',train_df.shape)\n",
    "    print('전처리 후 검증 데이터 :',dev_df.shape)\n",
    "    print('전처리 후 테스트 데이터 :',test_df.shape)\n"
   ]
  },
  {
   "cell_type": "code",
   "execution_count": 10,
   "metadata": {
    "scrolled": true
   },
   "outputs": [
    {
     "name": "stdout",
     "output_type": "stream",
     "text": [
      "전처리 후 학습 데이터 : (10561, 2)\n",
      "전처리 후 검증 데이터 : (1178, 2)\n",
      "전처리 후 테스트 데이터 : (1623, 2)\n"
     ]
    }
   ],
   "source": [
    "# 데이터 전처리 선택\n",
    "data_cleansing(train_df, dev_df, test_df, con=0)  # 0: 전처리 없음(null값 공백 치환), 1: 숫자 제거, 2: 특수문자 제거"
   ]
  },
  {
   "cell_type": "code",
   "execution_count": 11,
   "metadata": {},
   "outputs": [
    {
     "data": {
      "text/html": [
       "<div>\n",
       "<style scoped>\n",
       "    .dataframe tbody tr th:only-of-type {\n",
       "        vertical-align: middle;\n",
       "    }\n",
       "\n",
       "    .dataframe tbody tr th {\n",
       "        vertical-align: top;\n",
       "    }\n",
       "\n",
       "    .dataframe thead th {\n",
       "        text-align: right;\n",
       "    }\n",
       "</style>\n",
       "<table border=\"1\" class=\"dataframe\">\n",
       "  <thead>\n",
       "    <tr style=\"text-align: right;\">\n",
       "      <th></th>\n",
       "      <th>utterance</th>\n",
       "      <th>emotion</th>\n",
       "    </tr>\n",
       "  </thead>\n",
       "  <tbody>\n",
       "    <tr>\n",
       "      <th>0</th>\n",
       "      <td>also I was the point person on my companys tr...</td>\n",
       "      <td>neutral</td>\n",
       "    </tr>\n",
       "    <tr>\n",
       "      <th>1</th>\n",
       "      <td>You mustve had your hands full.</td>\n",
       "      <td>neutral</td>\n",
       "    </tr>\n",
       "    <tr>\n",
       "      <th>2</th>\n",
       "      <td>That I did. That I did.</td>\n",
       "      <td>neutral</td>\n",
       "    </tr>\n",
       "    <tr>\n",
       "      <th>3</th>\n",
       "      <td>So lets talk a little bit about your duties.</td>\n",
       "      <td>neutral</td>\n",
       "    </tr>\n",
       "    <tr>\n",
       "      <th>4</th>\n",
       "      <td>My duties?  All right.</td>\n",
       "      <td>surprise</td>\n",
       "    </tr>\n",
       "  </tbody>\n",
       "</table>\n",
       "</div>"
      ],
      "text/plain": [
       "                                           utterance   emotion\n",
       "0  also I was the point person on my companys tr...   neutral\n",
       "1                   You mustve had your hands full.   neutral\n",
       "2                            That I did. That I did.   neutral\n",
       "3      So lets talk a little bit about your duties.   neutral\n",
       "4                             My duties?  All right.  surprise"
      ]
     },
     "execution_count": 11,
     "metadata": {},
     "output_type": "execute_result"
    }
   ],
   "source": [
    "train_df.head()"
   ]
  },
  {
   "cell_type": "code",
   "execution_count": 12,
   "metadata": {},
   "outputs": [
    {
     "data": {
      "text/html": [
       "<div>\n",
       "<style scoped>\n",
       "    .dataframe tbody tr th:only-of-type {\n",
       "        vertical-align: middle;\n",
       "    }\n",
       "\n",
       "    .dataframe tbody tr th {\n",
       "        vertical-align: top;\n",
       "    }\n",
       "\n",
       "    .dataframe thead th {\n",
       "        text-align: right;\n",
       "    }\n",
       "</style>\n",
       "<table border=\"1\" class=\"dataframe\">\n",
       "  <thead>\n",
       "    <tr style=\"text-align: right;\">\n",
       "      <th></th>\n",
       "      <th>utterance</th>\n",
       "      <th>emotion</th>\n",
       "    </tr>\n",
       "  </thead>\n",
       "  <tbody>\n",
       "    <tr>\n",
       "      <th>0</th>\n",
       "      <td>Oh my God, hes lost it. Hes totally lost it.</td>\n",
       "      <td>non-neutral</td>\n",
       "    </tr>\n",
       "    <tr>\n",
       "      <th>1</th>\n",
       "      <td>What?</td>\n",
       "      <td>surprise</td>\n",
       "    </tr>\n",
       "    <tr>\n",
       "      <th>2</th>\n",
       "      <td>Or! Or, we could go to the bank, close our acc...</td>\n",
       "      <td>neutral</td>\n",
       "    </tr>\n",
       "    <tr>\n",
       "      <th>3</th>\n",
       "      <td>Youre a genius!</td>\n",
       "      <td>joy</td>\n",
       "    </tr>\n",
       "    <tr>\n",
       "      <th>4</th>\n",
       "      <td>Aww, man, now we wont be bank buddies!</td>\n",
       "      <td>sadness</td>\n",
       "    </tr>\n",
       "  </tbody>\n",
       "</table>\n",
       "</div>"
      ],
      "text/plain": [
       "                                           utterance      emotion\n",
       "0     Oh my God, hes lost it. Hes totally lost it.  non-neutral\n",
       "1                                              What?     surprise\n",
       "2  Or! Or, we could go to the bank, close our acc...      neutral\n",
       "3                                   Youre a genius!          joy\n",
       "4            Aww, man, now we wont be bank buddies!      sadness"
      ]
     },
     "execution_count": 12,
     "metadata": {},
     "output_type": "execute_result"
    }
   ],
   "source": [
    "dev_df.head()"
   ]
  },
  {
   "cell_type": "code",
   "execution_count": 13,
   "metadata": {
    "scrolled": false
   },
   "outputs": [
    {
     "data": {
      "text/html": [
       "<div>\n",
       "<style scoped>\n",
       "    .dataframe tbody tr th:only-of-type {\n",
       "        vertical-align: middle;\n",
       "    }\n",
       "\n",
       "    .dataframe tbody tr th {\n",
       "        vertical-align: top;\n",
       "    }\n",
       "\n",
       "    .dataframe thead th {\n",
       "        text-align: right;\n",
       "    }\n",
       "</style>\n",
       "<table border=\"1\" class=\"dataframe\">\n",
       "  <thead>\n",
       "    <tr style=\"text-align: right;\">\n",
       "      <th></th>\n",
       "      <th>id</th>\n",
       "      <th>utterance</th>\n",
       "    </tr>\n",
       "  </thead>\n",
       "  <tbody>\n",
       "    <tr>\n",
       "      <th>0</th>\n",
       "      <td>0</td>\n",
       "      <td>Alright, whadyou do with him?</td>\n",
       "    </tr>\n",
       "    <tr>\n",
       "      <th>1</th>\n",
       "      <td>1</td>\n",
       "      <td>Oh! You're awake!</td>\n",
       "    </tr>\n",
       "    <tr>\n",
       "      <th>2</th>\n",
       "      <td>2</td>\n",
       "      <td>Then you gotta come clean with Ma! This is not...</td>\n",
       "    </tr>\n",
       "    <tr>\n",
       "      <th>3</th>\n",
       "      <td>3</td>\n",
       "      <td>Yeah, but this is</td>\n",
       "    </tr>\n",
       "    <tr>\n",
       "      <th>4</th>\n",
       "      <td>4</td>\n",
       "      <td>I don't wanna hear it! Now go to my room!</td>\n",
       "    </tr>\n",
       "  </tbody>\n",
       "</table>\n",
       "</div>"
      ],
      "text/plain": [
       "   id                                          utterance\n",
       "0   0                      Alright, whadyou do with him?\n",
       "1   1                                  Oh! You're awake!\n",
       "2   2  Then you gotta come clean with Ma! This is not...\n",
       "3   3                                  Yeah, but this is\n",
       "4   4          I don't wanna hear it! Now go to my room!"
      ]
     },
     "execution_count": 13,
     "metadata": {},
     "output_type": "execute_result"
    }
   ],
   "source": [
    "test_df.head()"
   ]
  },
  {
   "cell_type": "code",
   "execution_count": 14,
   "metadata": {},
   "outputs": [],
   "source": [
    "# Friends 감정 딕셔너리 생성\n",
    "emoset = {'non-neutral': 0,\n",
    "          'neutral': 1, \n",
    "          'joy': 2,\n",
    "          'sadness': 3,\n",
    "          'fear': 4,\n",
    "          'anger': 5,\n",
    "          'surprise': 6,\n",
    "          'disgust': 7}\n",
    "\n",
    "# # 사이킷런을 활용한 레이블인코딩\n",
    "# from sklearn.preprocessing import LabelEncoder\n",
    "\n",
    "# items = ['non-neutral','neutral','joy','sadness','fear','anger','surprise','disgust']\n",
    "\n",
    "# # LabelEncoder를 객체로 생성한 후, fit()과 transform()으로 레이블 인코딩 수행\n",
    "# encoder = LabelEncoder()\n",
    "# encoder.fit(items)\n",
    "# labels = encoder.transform(items)\n",
    "\n",
    "# print('인코딩 클래스 :', encoder.classes_)\n",
    "# print('인코딩 변환값 :', labels)"
   ]
  },
  {
   "cell_type": "code",
   "execution_count": 15,
   "metadata": {},
   "outputs": [],
   "source": [
    "# 'label' 컬럼 신규\n",
    "#for emo in train_df['emotion'][:10]:  print(emo, emoset[emo])\n",
    "train_df['label'] = [emoset[emo] for emo in train_df['emotion']]\n",
    "dev_df['label'] = [emoset[emo] for emo in dev_df['emotion']]"
   ]
  },
  {
   "cell_type": "code",
   "execution_count": 16,
   "metadata": {},
   "outputs": [
    {
     "data": {
      "text/html": [
       "<div>\n",
       "<style scoped>\n",
       "    .dataframe tbody tr th:only-of-type {\n",
       "        vertical-align: middle;\n",
       "    }\n",
       "\n",
       "    .dataframe tbody tr th {\n",
       "        vertical-align: top;\n",
       "    }\n",
       "\n",
       "    .dataframe thead th {\n",
       "        text-align: right;\n",
       "    }\n",
       "</style>\n",
       "<table border=\"1\" class=\"dataframe\">\n",
       "  <thead>\n",
       "    <tr style=\"text-align: right;\">\n",
       "      <th></th>\n",
       "      <th>utterance</th>\n",
       "      <th>emotion</th>\n",
       "      <th>label</th>\n",
       "    </tr>\n",
       "  </thead>\n",
       "  <tbody>\n",
       "    <tr>\n",
       "      <th>0</th>\n",
       "      <td>also I was the point person on my companys tr...</td>\n",
       "      <td>neutral</td>\n",
       "      <td>1</td>\n",
       "    </tr>\n",
       "    <tr>\n",
       "      <th>1</th>\n",
       "      <td>You mustve had your hands full.</td>\n",
       "      <td>neutral</td>\n",
       "      <td>1</td>\n",
       "    </tr>\n",
       "    <tr>\n",
       "      <th>2</th>\n",
       "      <td>That I did. That I did.</td>\n",
       "      <td>neutral</td>\n",
       "      <td>1</td>\n",
       "    </tr>\n",
       "    <tr>\n",
       "      <th>3</th>\n",
       "      <td>So lets talk a little bit about your duties.</td>\n",
       "      <td>neutral</td>\n",
       "      <td>1</td>\n",
       "    </tr>\n",
       "    <tr>\n",
       "      <th>4</th>\n",
       "      <td>My duties?  All right.</td>\n",
       "      <td>surprise</td>\n",
       "      <td>6</td>\n",
       "    </tr>\n",
       "  </tbody>\n",
       "</table>\n",
       "</div>"
      ],
      "text/plain": [
       "                                           utterance   emotion  label\n",
       "0  also I was the point person on my companys tr...   neutral      1\n",
       "1                   You mustve had your hands full.   neutral      1\n",
       "2                            That I did. That I did.   neutral      1\n",
       "3      So lets talk a little bit about your duties.   neutral      1\n",
       "4                             My duties?  All right.  surprise      6"
      ]
     },
     "execution_count": 16,
     "metadata": {},
     "output_type": "execute_result"
    }
   ],
   "source": [
    "train_df.head()"
   ]
  },
  {
   "cell_type": "code",
   "execution_count": 17,
   "metadata": {
    "scrolled": true
   },
   "outputs": [
    {
     "data": {
      "text/html": [
       "<div>\n",
       "<style scoped>\n",
       "    .dataframe tbody tr th:only-of-type {\n",
       "        vertical-align: middle;\n",
       "    }\n",
       "\n",
       "    .dataframe tbody tr th {\n",
       "        vertical-align: top;\n",
       "    }\n",
       "\n",
       "    .dataframe thead th {\n",
       "        text-align: right;\n",
       "    }\n",
       "</style>\n",
       "<table border=\"1\" class=\"dataframe\">\n",
       "  <thead>\n",
       "    <tr style=\"text-align: right;\">\n",
       "      <th></th>\n",
       "      <th>utterance</th>\n",
       "      <th>emotion</th>\n",
       "      <th>label</th>\n",
       "    </tr>\n",
       "  </thead>\n",
       "  <tbody>\n",
       "    <tr>\n",
       "      <th>0</th>\n",
       "      <td>Oh my God, hes lost it. Hes totally lost it.</td>\n",
       "      <td>non-neutral</td>\n",
       "      <td>0</td>\n",
       "    </tr>\n",
       "    <tr>\n",
       "      <th>1</th>\n",
       "      <td>What?</td>\n",
       "      <td>surprise</td>\n",
       "      <td>6</td>\n",
       "    </tr>\n",
       "    <tr>\n",
       "      <th>2</th>\n",
       "      <td>Or! Or, we could go to the bank, close our acc...</td>\n",
       "      <td>neutral</td>\n",
       "      <td>1</td>\n",
       "    </tr>\n",
       "    <tr>\n",
       "      <th>3</th>\n",
       "      <td>Youre a genius!</td>\n",
       "      <td>joy</td>\n",
       "      <td>2</td>\n",
       "    </tr>\n",
       "    <tr>\n",
       "      <th>4</th>\n",
       "      <td>Aww, man, now we wont be bank buddies!</td>\n",
       "      <td>sadness</td>\n",
       "      <td>3</td>\n",
       "    </tr>\n",
       "  </tbody>\n",
       "</table>\n",
       "</div>"
      ],
      "text/plain": [
       "                                           utterance      emotion  label\n",
       "0     Oh my God, hes lost it. Hes totally lost it.  non-neutral      0\n",
       "1                                              What?     surprise      6\n",
       "2  Or! Or, we could go to the bank, close our acc...      neutral      1\n",
       "3                                   Youre a genius!          joy      2\n",
       "4            Aww, man, now we wont be bank buddies!      sadness      3"
      ]
     },
     "execution_count": 17,
     "metadata": {},
     "output_type": "execute_result"
    }
   ],
   "source": [
    "dev_df.head()"
   ]
  },
  {
   "cell_type": "code",
   "execution_count": 18,
   "metadata": {},
   "outputs": [],
   "source": [
    "# 학습, 검증(Origianl Testset) 데이터 레이블 넘파이 배열 처리\n",
    "y_train = np.array(train_df['label'])\n",
    "y_dev = np.array(dev_df['label'])"
   ]
  },
  {
   "cell_type": "markdown",
   "metadata": {},
   "source": [
    "# TF-IDF를 활용한 벡터화"
   ]
  },
  {
   "cell_type": "markdown",
   "metadata": {},
   "source": [
    "Bag of Words 모델은 문서가 가지는 모든 단어를 문맥이나 순서를 무시하고 일괄적으로 단어에 대해 빈도 값을 부여해 피처 값을 추출하는 모델이다. 문서 내 모든 단어를 한꺼번에 봉투(bag) 안에 넣은 뒤에 흔들어서 섞는다는 의미로 Bag of Words(BOW) 모델이라고 한다.<br>\n",
    "\n",
    "머신러닝 알고리즘은 일반적으로 숫자형 피처를 데이터로 입력받아 동작하기 때문에 텍스트 데이터는 머신러닝 알고리즘에 바로 입력할 수 없다. 따라서 텍스트는 특정 의미를 가지는 숫자형 값인 벡터 값으로 변환해야 하고, 이러한 변환을 피처 벡터화라고 한다. 일반적으로 BOW의 피처 벡터화는 (1) 카운트 벡터화, (2) TF-IDF 벡터화 두 가지 방식이 있다.\n",
    "\n",
    "사이킷런의 CountVertorizer, TfidfVectorizer를 이용해 텍스트를 피처 단위로 벡터화해 변환하고 CSR 형태의 희소 행렬을 반환한다. 단순하게 피처 벡터화만 수행하는게 아니라 소문자 일괄 변환, 토큰화, 스톱 워드 필터링 등의 텍스트 전처리도 함께 수행할 수 있다.\n",
    "\n",
    "벡터화의 결과는 대부분의 값이 0을 가지는 희소 행렬이며 메모리 공간을 효율적으로 사용하기 위한 CSR(Compressed Sparse Row) 형태이다. CountVertorizer, TfidfVectorize를 적용할 때는 반드시 학습 데이터를 이용해 fit()이 수행된 객체를 통해 테스트 데이터를 변환(transform)해야 한다. 그래야만 학습 시 사용된 피처 개수와 예측 시 사용할 피처 개수를 동일하게 맞출 수 있다.\n",
    "\n",
    "일반적으로 문서 내에 텍스트가 많고 많은 문서를 가지는 텍스트 분석에서는 카운트 벡터화보다 TF-IDF 벡터화가 좋은 예측 결과를 도출한다."
   ]
  },
  {
   "cell_type": "code",
   "execution_count": 19,
   "metadata": {},
   "outputs": [
    {
     "name": "stdout",
     "output_type": "stream",
     "text": [
      "time : 0.2278900146484375\n",
      "\n",
      "(10561, 25448)\n",
      "(1178, 25448)\n",
      "(1623, 25448)\n",
      "<class 'scipy.sparse.csr.csr_matrix'>\n"
     ]
    }
   ],
   "source": [
    "import time\n",
    "from sklearn.feature_extraction.text import TfidfVectorizer\n",
    "\n",
    "start = time.time()  # 시작 시간 저장\n",
    "\n",
    "# TfidfVectorizer를 이용해 학습 데이터를 TF-IDF 값으로 피처 변환\n",
    "# TfidfVectorizer 클래스의 스톱 워드를 'english'로, ngram_range는 (1, 2), max_df=700으로 설정한다.\n",
    "vectorizer = TfidfVectorizer(stop_words='english', ngram_range=(1,2), max_df=700)\n",
    "vectorizer.fit(train_df['utterance'])\n",
    "train_data_features = vectorizer.transform(train_df['utterance'])\n",
    "\n",
    "# 학습 데이터를 적용한 TfidfVectorizer를 이용해 검증 데이터를 TF-IDF 값으로 피처 변환\n",
    "dev_data_features = vectorizer.transform(dev_df['utterance'])\n",
    "\n",
    "# 학습 데이터를 적용한 TfidfVectorizer를 이용해 테스트 데이터를 TF-IDF 값으로 피처 변환\n",
    "test_data_features = vectorizer.transform(test_df['utterance'])\n",
    "\n",
    "print(\"time :\", time.time() - start)  # 현재시각 - 시작시간 = 실행 시간\n",
    "print()\n",
    "print(train_data_features.shape)\n",
    "print(dev_data_features.shape)\n",
    "print(test_data_features.shape)\n",
    "print(type(train_data_features))"
   ]
  },
  {
   "cell_type": "markdown",
   "metadata": {},
   "source": [
    "# (Baseline) 학습에서 검증 데이터 분리 후 모델 학습"
   ]
  },
  {
   "cell_type": "code",
   "execution_count": 20,
   "metadata": {},
   "outputs": [],
   "source": [
    "from sklearn.model_selection import train_test_split\n",
    "\n",
    "train_input, eval_input, train_label, eval_label = train_test_split(train_data_features, y_train, test_size=TEST_SIZE, random_state=RANDOM_SEED)"
   ]
  },
  {
   "cell_type": "code",
   "execution_count": 21,
   "metadata": {},
   "outputs": [
    {
     "name": "stdout",
     "output_type": "stream",
     "text": [
      "time : 4.294263124465942\n"
     ]
    }
   ],
   "source": [
    "from lightgbm import LGBMClassifier\n",
    "\n",
    "start = time.time()  # 시작 시간 저장\n",
    "\n",
    "# 랜덤 포레스트 사용해서 감성 분석 분류 수행\n",
    "clf = LGBMClassifier(random_state=RANDOM_SEED)\n",
    "clf.fit(train_input, train_label)\n",
    "\n",
    "print(\"time :\", time.time() - start)  # 현재시각 - 시작시간 = 실행 "
   ]
  },
  {
   "cell_type": "code",
   "execution_count": 22,
   "metadata": {},
   "outputs": [
    {
     "name": "stdout",
     "output_type": "stream",
     "text": [
      "Accuracy: 0.475154\n"
     ]
    }
   ],
   "source": [
    "print(\"Accuracy: %f\" % clf.score(eval_input, eval_label))  # 검증 함수로 정확도 측정"
   ]
  },
  {
   "cell_type": "markdown",
   "metadata": {},
   "source": [
    "# (Baseline) Original 테스트셋으로 성능 평가"
   ]
  },
  {
   "cell_type": "code",
   "execution_count": 23,
   "metadata": {},
   "outputs": [
    {
     "name": "stdout",
     "output_type": "stream",
     "text": [
      "오차 행렬\n",
      "[[ 26 156   7   4   0   0  17   4]\n",
      " [ 41 410  13   2   2   8  12   3]\n",
      " [  9  91  16   1   0   0   6   0]\n",
      " [ 13  35   1   9   0   2   1   1]\n",
      " [  2  20   0   2   1   0   3   1]\n",
      " [ 10  62   3   0   1   5   4   0]\n",
      " [ 16  92   3   4   1   3  32   0]\n",
      " [  6  13   1   0   0   1   1   1]] \n",
      "\n",
      "LightGBM 정확도 : 0.4244482173174873 \n",
      "\n"
     ]
    }
   ],
   "source": [
    "from sklearn.metrics import accuracy_score, precision_score, recall_score, confusion_matrix\n",
    "from sklearn.metrics import f1_score, roc_auc_score\n",
    "from sklearn.metrics import classification_report\n",
    "\n",
    "preds = clf.predict(dev_data_features)\n",
    "confusion = confusion_matrix(dev_df['label'], preds)\n",
    "\n",
    "print('오차 행렬')\n",
    "print(confusion,'\\n')\n",
    "print('LightGBM 정확도 :', accuracy_score(dev_df['label'], preds),'\\n')"
   ]
  },
  {
   "cell_type": "code",
   "execution_count": 24,
   "metadata": {},
   "outputs": [
    {
     "name": "stdout",
     "output_type": "stream",
     "text": [
      "              precision    recall  f1-score   support\n",
      "\n",
      " non-neutral       0.21      0.12      0.15       214\n",
      "     neutral       0.47      0.84      0.60       491\n",
      "         joy       0.36      0.13      0.19       123\n",
      "     sadness       0.41      0.15      0.21        62\n",
      "        fear       0.20      0.03      0.06        29\n",
      "       anger       0.26      0.06      0.10        85\n",
      "    surprise       0.42      0.21      0.28       151\n",
      "     disgust       0.10      0.04      0.06        23\n",
      "\n",
      "    accuracy                           0.42      1178\n",
      "   macro avg       0.30      0.20      0.21      1178\n",
      "weighted avg       0.37      0.42      0.35      1178\n",
      "\n"
     ]
    }
   ],
   "source": [
    "target_names = ['non-neutral','neutral','joy','sadness','fear','anger','surprise','disgust']\n",
    "\n",
    "print(classification_report(dev_df['label'], preds, target_names=target_names))"
   ]
  },
  {
   "cell_type": "code",
   "execution_count": 25,
   "metadata": {},
   "outputs": [
    {
     "name": "stdout",
     "output_type": "stream",
     "text": [
      "F1 Score : 0.35450\n"
     ]
    }
   ],
   "source": [
    "from sklearn.metrics import f1_score\n",
    "f1 = f1_score(dev_df['label'], preds, average='weighted')\n",
    "print('F1 Score : {:.5f}'.format(f1))"
   ]
  },
  {
   "cell_type": "markdown",
   "metadata": {},
   "source": [
    "# (GridSearch) 모델 학습 with Pipeline"
   ]
  },
  {
   "cell_type": "code",
   "execution_count": 26,
   "metadata": {},
   "outputs": [
    {
     "name": "stdout",
     "output_type": "stream",
     "text": [
      "Fitting 3 folds for each of 4 candidates, totalling 12 fits\n"
     ]
    },
    {
     "name": "stderr",
     "output_type": "stream",
     "text": [
      "[Parallel(n_jobs=1)]: Using backend SequentialBackend with 1 concurrent workers.\n",
      "[Parallel(n_jobs=1)]: Done  12 out of  12 | elapsed:   48.5s finished\n"
     ]
    },
    {
     "name": "stdout",
     "output_type": "stream",
     "text": [
      "{'tfidf_vect__max_df': 700, 'tfidf_vect__ngram_range': (1, 3)} 0.4602789378447927\n",
      "Pipeline을 통한 XGBoost 예측 정확도는 0.438\n",
      "time : 53.10881042480469\n"
     ]
    }
   ],
   "source": [
    "from lightgbm import LGBMClassifier\n",
    "from sklearn.model_selection import GridSearchCV\n",
    "from sklearn.pipeline import Pipeline\n",
    "\n",
    "start = time.time()  # 시작 시간 저장\n",
    "\n",
    "pipeline = Pipeline([\n",
    "    ('tfidf_vect',TfidfVectorizer(stop_words='english')),\n",
    "    ('lgb_clf', LGBMClassifier())\n",
    "])\n",
    "\n",
    "# Pipeline에 기술된 각각의 객체 변수에 언더바(_) 2개를 연달아 붙여 \n",
    "# GridSearchCV에 사용될 파라미터/하이퍼파라미터 이름과 값을 설정\n",
    "params = { 'tfidf_vect__ngram_range': [(1,2),(1,3)]\n",
    "           ,'tfidf_vect__max_df' : [300,700]\n",
    "         }\n",
    "\n",
    "# GridSearchCV의 생성자에 Estimator가 아닌 Pipeline 객체 입력\n",
    "grid_cv_pipe = GridSearchCV(pipeline, param_grid=params, cv=3, scoring='accuracy', verbose=1)\n",
    "grid_cv_pipe.fit(train_df['utterance'], y_train)\n",
    "print(grid_cv_pipe.best_params_, grid_cv_pipe.best_score_)\n",
    "\n",
    "pred = grid_cv_pipe.predict(dev_df['utterance'])\n",
    "print('Pipeline을 통한 XGBoost 예측 정확도는 {0:.3f}'.format(\n",
    "      accuracy_score(y_dev, pred)))\n",
    "\n",
    "print(\"time :\", time.time() - start)  # 현재시각 - 시작시간 = 실행"
   ]
  },
  {
   "cell_type": "code",
   "execution_count": 27,
   "metadata": {},
   "outputs": [
    {
     "data": {
      "text/plain": [
       "{'tfidf_vect__max_df': 700, 'tfidf_vect__ngram_range': (1, 3)}"
      ]
     },
     "execution_count": 27,
     "metadata": {},
     "output_type": "execute_result"
    }
   ],
   "source": [
    "# 도출된 best 파라미터를 dictionary형 변수로 담는다\n",
    "grid_dict = grid_cv_pipe.best_params_\n",
    "grid_dict"
   ]
  },
  {
   "cell_type": "code",
   "execution_count": 28,
   "metadata": {},
   "outputs": [],
   "source": [
    "# TfidfVectorizer를 이용해 학습 데이터를 TF-IDF 값으로 피처 변환\n",
    "# TfidfVectorizer 클래스의 스톱 워드를 'english'로, ngram_range, max_df는 GridSearchCV 통해 얻은 결과 입력\n",
    "vectorizer = TfidfVectorizer(stop_words='english', ngram_range=grid_dict.get('tfidf_vect__ngram_range'), \\\n",
    "                             max_df=grid_dict.get('tfidf_vect__max_df'))\n",
    "vectorizer.fit(train_df['utterance'])\n",
    "train_data_features = vectorizer.transform(train_df['utterance'])\n",
    "\n",
    "# 학습 데이터를 적용한 TfidfVectorizer를 이용해 검증/테스트 데이터를 TF-IDF 값으로 피처 변환\n",
    "dev_data_features = vectorizer.transform(dev_df['utterance'])\n",
    "test_data_features = vectorizer.transform(test_df['utterance'])"
   ]
  },
  {
   "cell_type": "code",
   "execution_count": 29,
   "metadata": {},
   "outputs": [
    {
     "data": {
      "text/plain": [
       "LGBMClassifier(random_state=42)"
      ]
     },
     "execution_count": 29,
     "metadata": {},
     "output_type": "execute_result"
    }
   ],
   "source": [
    "# GridSearch 적용된 데이터셋을 통해 감성 분석 분류 수행\n",
    "\n",
    "lgb_clf = LGBMClassifier(random_state= RANDOM_SEED)\n",
    "lgb_clf.fit(train_data_features, y_train)"
   ]
  },
  {
   "cell_type": "markdown",
   "metadata": {},
   "source": [
    "# (GridSearch+Pipeline) Original 테스트셋으로 성능 평가"
   ]
  },
  {
   "cell_type": "code",
   "execution_count": 30,
   "metadata": {},
   "outputs": [],
   "source": [
    "preds = lgb_clf.predict(dev_data_features)"
   ]
  },
  {
   "cell_type": "code",
   "execution_count": 31,
   "metadata": {},
   "outputs": [
    {
     "name": "stdout",
     "output_type": "stream",
     "text": [
      "오차 행렬\n",
      "[[ 29 153   9   1   2   2  18   0]\n",
      " [ 29 425  14   3   4   3  12   1]\n",
      " [  7  87  20   1   0   0   8   0]\n",
      " [ 14  36   3   7   0   1   1   0]\n",
      " [  4  19   0   1   1   1   2   1]\n",
      " [  8  65   5   0   1   3   2   1]\n",
      " [ 18  94   5   2   1   0  31   0]\n",
      " [  4  16   1   0   0   1   1   0]] \n",
      "\n",
      "Logistic Regression 정확도  : 0.4380305602716469 \n",
      "\n"
     ]
    }
   ],
   "source": [
    "confusion = confusion_matrix(dev_df['label'], preds)\n",
    "\n",
    "print('오차 행렬')\n",
    "print(confusion,'\\n')\n",
    "\n",
    "print('Logistic Regression 정확도  :', accuracy_score(dev_df['label'], preds),'\\n')"
   ]
  },
  {
   "cell_type": "code",
   "execution_count": 32,
   "metadata": {},
   "outputs": [
    {
     "name": "stdout",
     "output_type": "stream",
     "text": [
      "              precision    recall  f1-score   support\n",
      "\n",
      " non-neutral       0.26      0.14      0.18       214\n",
      "     neutral       0.47      0.87      0.61       491\n",
      "         joy       0.35      0.16      0.22       123\n",
      "     sadness       0.47      0.11      0.18        62\n",
      "        fear       0.11      0.03      0.05        29\n",
      "       anger       0.27      0.04      0.06        85\n",
      "    surprise       0.41      0.21      0.27       151\n",
      "     disgust       0.00      0.00      0.00        23\n",
      "\n",
      "    accuracy                           0.44      1178\n",
      "   macro avg       0.29      0.19      0.20      1178\n",
      "weighted avg       0.38      0.44      0.36      1178\n",
      "\n"
     ]
    }
   ],
   "source": [
    "target_names = ['non-neutral','neutral','joy','sadness','fear','anger','surprise','disgust']\n",
    "\n",
    "print(classification_report(dev_df['label'], preds, target_names=target_names))"
   ]
  },
  {
   "cell_type": "code",
   "execution_count": 33,
   "metadata": {},
   "outputs": [
    {
     "name": "stdout",
     "output_type": "stream",
     "text": [
      "F1 Score : 0.36158\n"
     ]
    }
   ],
   "source": [
    "from sklearn.metrics import f1_score\n",
    "f1 = f1_score(dev_df['label'], preds, average='weighted')\n",
    "print('F1 Score : {:.5f}'.format(f1))"
   ]
  },
  {
   "cell_type": "markdown",
   "metadata": {},
   "source": [
    "# (참고) 제출 파일 생성"
   ]
  },
  {
   "cell_type": "code",
   "execution_count": 34,
   "metadata": {},
   "outputs": [
    {
     "data": {
      "text/plain": [
       "array([1, 1, 1, ..., 1, 1, 1])"
      ]
     },
     "execution_count": 34,
     "metadata": {},
     "output_type": "execute_result"
    }
   ],
   "source": [
    "test_preds = lgb_clf.predict(test_data_features)\n",
    "test_preds"
   ]
  },
  {
   "cell_type": "code",
   "execution_count": 35,
   "metadata": {},
   "outputs": [
    {
     "data": {
      "text/html": [
       "<div>\n",
       "<style scoped>\n",
       "    .dataframe tbody tr th:only-of-type {\n",
       "        vertical-align: middle;\n",
       "    }\n",
       "\n",
       "    .dataframe tbody tr th {\n",
       "        vertical-align: top;\n",
       "    }\n",
       "\n",
       "    .dataframe thead th {\n",
       "        text-align: right;\n",
       "    }\n",
       "</style>\n",
       "<table border=\"1\" class=\"dataframe\">\n",
       "  <thead>\n",
       "    <tr style=\"text-align: right;\">\n",
       "      <th></th>\n",
       "      <th>Id</th>\n",
       "      <th>Predicted</th>\n",
       "    </tr>\n",
       "  </thead>\n",
       "  <tbody>\n",
       "    <tr>\n",
       "      <th>0</th>\n",
       "      <td>0</td>\n",
       "      <td>neutral</td>\n",
       "    </tr>\n",
       "    <tr>\n",
       "      <th>1</th>\n",
       "      <td>1</td>\n",
       "      <td>neutral</td>\n",
       "    </tr>\n",
       "    <tr>\n",
       "      <th>2</th>\n",
       "      <td>2</td>\n",
       "      <td>neutral</td>\n",
       "    </tr>\n",
       "    <tr>\n",
       "      <th>3</th>\n",
       "      <td>3</td>\n",
       "      <td>neutral</td>\n",
       "    </tr>\n",
       "    <tr>\n",
       "      <th>4</th>\n",
       "      <td>4</td>\n",
       "      <td>neutral</td>\n",
       "    </tr>\n",
       "  </tbody>\n",
       "</table>\n",
       "</div>"
      ],
      "text/plain": [
       "   Id Predicted\n",
       "0   0   neutral\n",
       "1   1   neutral\n",
       "2   2   neutral\n",
       "3   3   neutral\n",
       "4   4   neutral"
      ]
     },
     "execution_count": 35,
     "metadata": {},
     "output_type": "execute_result"
    }
   ],
   "source": [
    "# 감정 레이블링 위해 기존 정수형 레이블로부터 역변환\n",
    "emoset_reverse = dict(zip(emoset.values(),emoset.keys()))\n",
    "\n",
    "# 테스트 데이터의 id, 리뷰 부분을 리스트 처리\n",
    "ids = list(test_df['id'])\n",
    "test_utterances = list(test_df['utterance'])\n",
    "\n",
    "# 숫자로 인코딩 된 레이블을 감정명으로 재매칭\n",
    "emo_preds = [emoset_reverse[label] for label in test_preds]\n",
    "\n",
    "# 판다스 데이터프레임 통해 데이터 구성하여 output에 투입\n",
    "output = pd.DataFrame( data={\"Id\": ids, \"Predicted\": emo_preds} )\n",
    "output.head()"
   ]
  },
  {
   "cell_type": "code",
   "execution_count": 36,
   "metadata": {},
   "outputs": [],
   "source": [
    "# 해당 경로가 없으면 생성\n",
    "if not os.path.exists(DATA_OUT_PATH):\n",
    "    os.makedirs(DATA_OUT_PATH)\n",
    "\n",
    "# csv파일 생성\n",
    "output.to_csv(DATA_OUT_PATH + \"FRIENDS_LightGBM.csv\", index = False)"
   ]
  },
  {
   "cell_type": "markdown",
   "metadata": {},
   "source": [
    "### 캐글 제출 결과\n",
    "**[2020.12.17]**<br>\n",
    "0.45006 (공백 치환 외 전처리 수행 안한 경우)"
   ]
  },
  {
   "cell_type": "markdown",
   "metadata": {},
   "source": [
    "# (참고) 리뷰 예측하기"
   ]
  },
  {
   "cell_type": "code",
   "execution_count": 37,
   "metadata": {},
   "outputs": [],
   "source": [
    "# 입력을 리스트 형태로 넣어야 함\n",
    "# 참고 : https://m.blog.naver.com/PostView.nhn?blogId=samsjang&logNo=220985170721&proxyReferer=https:%2F%2Fwww.google.com%2F\n",
    "def sentiment_predict(new_sentence):\n",
    "    emo_pres = dict(zip(emoset.values(),emoset.keys()))\n",
    "    new_sentence = vectorizer.transform(new_sentence)  # TF-IDF 값으로 피처 변환\n",
    "    print('예측: %s\\n확률: %.3f%%' %(emo_pres[lgb_clf.predict(new_sentence)[0]], \\\n",
    "                                 np.max(lgb_clf.predict_proba(new_sentence))*100))"
   ]
  },
  {
   "cell_type": "code",
   "execution_count": 38,
   "metadata": {},
   "outputs": [
    {
     "name": "stdout",
     "output_type": "stream",
     "text": [
      "예측: neutral\n",
      "확률: 46.670%\n"
     ]
    }
   ],
   "source": [
    "sentiment_predict(['how do you know?'])"
   ]
  },
  {
   "cell_type": "code",
   "execution_count": 39,
   "metadata": {},
   "outputs": [
    {
     "name": "stdout",
     "output_type": "stream",
     "text": [
      "예측: joy\n",
      "확률: 44.584%\n"
     ]
    }
   ],
   "source": [
    "sentiment_predict(['I love you!'])"
   ]
  },
  {
   "cell_type": "code",
   "execution_count": 40,
   "metadata": {},
   "outputs": [
    {
     "name": "stdout",
     "output_type": "stream",
     "text": [
      "예측: neutral\n",
      "확률: 46.670%\n"
     ]
    }
   ],
   "source": [
    "sentiment_predict(['I hate that!'])"
   ]
  },
  {
   "cell_type": "code",
   "execution_count": null,
   "metadata": {},
   "outputs": [],
   "source": []
  }
 ],
 "metadata": {
  "kernelspec": {
   "display_name": "Python 3",
   "language": "python",
   "name": "python3"
  },
  "language_info": {
   "codemirror_mode": {
    "name": "ipython",
    "version": 3
   },
   "file_extension": ".py",
   "mimetype": "text/x-python",
   "name": "python",
   "nbconvert_exporter": "python",
   "pygments_lexer": "ipython3",
   "version": "3.6.9"
  }
 },
 "nbformat": 4,
 "nbformat_minor": 2
}
